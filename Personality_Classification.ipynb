{
  "nbformat": 4,
  "nbformat_minor": 0,
  "metadata": {
    "colab": {
      "provenance": [],
      "collapsed_sections": [
        "jrbECVTBFIge",
        "ijPBWVUkFLag",
        "tKnFhYXFEwuq",
        "XDW5bQ-pF65z",
        "6PAzsTMKGPfN",
        "MGGPJ5rdHVMe",
        "tm3d9s83lG9e"
      ],
      "gpuType": "T4"
    },
    "kernelspec": {
      "name": "python3",
      "display_name": "Python 3"
    },
    "language_info": {
      "name": "python"
    },
    "accelerator": "GPU",
    "gpuClass": "standard"
  },
  "cells": [
    {
      "cell_type": "markdown",
      "source": [
        "# Import Library"
      ],
      "metadata": {
        "id": "jrbECVTBFIge"
      }
    },
    {
      "cell_type": "code",
      "execution_count": 16,
      "metadata": {
        "id": "bDaY8ykiFGNC"
      },
      "outputs": [],
      "source": [
        "import numpy as np\n",
        "import pandas as pd\n",
        "import matplotlib.pyplot as plt \n",
        "import keras\n",
        "from keras.models import Sequential\n",
        "from keras.layers import Dense\n",
        "from keras.optimizers import Adam\n",
        "import pydot\n",
        "import graphviz\n",
        "from IPython.display import SVG\n",
        "from keras.utils.vis_utils import model_to_dot\n",
        "from keras.utils import plot_model\n",
        "import seaborn as sns\n",
        "\n",
        "from keras.models import Sequential\n",
        "from keras.layers import Dense\n",
        "from keras.optimizers import Adam\n"
      ]
    },
    {
      "cell_type": "code",
      "source": [
        "from google.colab import drive\n",
        "drive.mount('/content/drive')"
      ],
      "metadata": {
        "colab": {
          "base_uri": "https://localhost:8080/"
        },
        "id": "eLfSKOJZFqsg",
        "outputId": "38526ace-ff21-470e-b37c-7e812e24e52b"
      },
      "execution_count": 17,
      "outputs": [
        {
          "output_type": "stream",
          "name": "stdout",
          "text": [
            "Drive already mounted at /content/drive; to attempt to forcibly remount, call drive.mount(\"/content/drive\", force_remount=True).\n"
          ]
        }
      ]
    },
    {
      "cell_type": "markdown",
      "source": [
        "# Load Dataset"
      ],
      "metadata": {
        "id": "ijPBWVUkFLag"
      }
    },
    {
      "cell_type": "code",
      "source": [
        "df = pd.read_csv('drive/MyDrive/personality-with-label.csv')\n",
        "df"
      ],
      "metadata": {
        "colab": {
          "base_uri": "https://localhost:8080/",
          "height": 0
        },
        "id": "ifds_J77FcZy",
        "outputId": "78cf6fd5-e9cd-4ba9-f9a1-d3cc22dc3f5c"
      },
      "execution_count": 18,
      "outputs": [
        {
          "output_type": "execute_result",
          "data": {
            "text/plain": [
              "        EXT1  EXT3  EXT5  EXT7  EXT9  EST1  EST3  EST6  EST7  EST10  ...  \\\n",
              "0        4.0   5.0   5.0   5.0   4.0   1.0   4.0   2.0   2.0    2.0  ...   \n",
              "1        3.0   3.0   3.0   2.0   1.0   2.0   4.0   1.0   2.0    1.0  ...   \n",
              "2        2.0   4.0   3.0   1.0   2.0   4.0   4.0   2.0   2.0    3.0  ...   \n",
              "3        2.0   2.0   4.0   2.0   1.0   3.0   3.0   2.0   2.0    3.0  ...   \n",
              "4        3.0   3.0   5.0   3.0   3.0   1.0   5.0   1.0   1.0    2.0  ...   \n",
              "...      ...   ...   ...   ...   ...   ...   ...   ...   ...    ...  ...   \n",
              "711958   5.0   5.0   4.0   3.0   5.0   5.0   5.0   4.0   5.0    4.0  ...   \n",
              "711959   4.0   4.0   3.0   4.0   3.0   4.0   5.0   5.0   4.0    5.0  ...   \n",
              "711960   4.0   4.0   5.0   4.0   4.0   3.0   4.0   2.0   4.0    1.0  ...   \n",
              "711961   2.0   3.0   2.0   1.0   2.0   4.0   4.0   4.0   2.0    4.0  ...   \n",
              "711962   4.0   4.0   4.0   4.0   4.0   4.0   4.0   3.0   3.0    2.0  ...   \n",
              "\n",
              "        CSN5  CSN7  CSN9  CSN10  OPN1  OPN5  OPN8  OPN9  OPN10  labels  \n",
              "0        2.0   4.0   4.0    4.0   5.0   4.0   3.0   4.0    5.0       0  \n",
              "1        3.0   3.0   5.0    3.0   1.0   3.0   2.0   5.0    3.0       2  \n",
              "2        3.0   4.0   4.0    2.0   5.0   4.0   3.0   4.0    4.0       2  \n",
              "3        1.0   2.0   1.0    4.0   4.0   3.0   4.0   3.0    3.0       4  \n",
              "4        3.0   5.0   5.0    5.0   5.0   5.0   3.0   5.0    5.0       0  \n",
              "...      ...   ...   ...    ...   ...   ...   ...   ...    ...     ...  \n",
              "711958   3.0   3.0   2.0    4.0   4.0   3.0   3.0   4.0    4.0       3  \n",
              "711959   3.0   2.0   2.0    3.0   4.0   5.0   4.0   5.0    4.0       1  \n",
              "711960   1.0   1.0   1.0    4.0   5.0   4.0   5.0   4.0    5.0       0  \n",
              "711961   2.0   4.0   4.0    4.0   5.0   3.0   5.0   5.0    3.0       1  \n",
              "711962   2.0   3.0   2.0    3.0   5.0   3.0   4.0   5.0    5.0       3  \n",
              "\n",
              "[711963 rows x 26 columns]"
            ],
            "text/html": [
              "\n",
              "  <div id=\"df-cf9fb8ca-62fc-400c-8b4a-8f6decdb77bc\">\n",
              "    <div class=\"colab-df-container\">\n",
              "      <div>\n",
              "<style scoped>\n",
              "    .dataframe tbody tr th:only-of-type {\n",
              "        vertical-align: middle;\n",
              "    }\n",
              "\n",
              "    .dataframe tbody tr th {\n",
              "        vertical-align: top;\n",
              "    }\n",
              "\n",
              "    .dataframe thead th {\n",
              "        text-align: right;\n",
              "    }\n",
              "</style>\n",
              "<table border=\"1\" class=\"dataframe\">\n",
              "  <thead>\n",
              "    <tr style=\"text-align: right;\">\n",
              "      <th></th>\n",
              "      <th>EXT1</th>\n",
              "      <th>EXT3</th>\n",
              "      <th>EXT5</th>\n",
              "      <th>EXT7</th>\n",
              "      <th>EXT9</th>\n",
              "      <th>EST1</th>\n",
              "      <th>EST3</th>\n",
              "      <th>EST6</th>\n",
              "      <th>EST7</th>\n",
              "      <th>EST10</th>\n",
              "      <th>...</th>\n",
              "      <th>CSN5</th>\n",
              "      <th>CSN7</th>\n",
              "      <th>CSN9</th>\n",
              "      <th>CSN10</th>\n",
              "      <th>OPN1</th>\n",
              "      <th>OPN5</th>\n",
              "      <th>OPN8</th>\n",
              "      <th>OPN9</th>\n",
              "      <th>OPN10</th>\n",
              "      <th>labels</th>\n",
              "    </tr>\n",
              "  </thead>\n",
              "  <tbody>\n",
              "    <tr>\n",
              "      <th>0</th>\n",
              "      <td>4.0</td>\n",
              "      <td>5.0</td>\n",
              "      <td>5.0</td>\n",
              "      <td>5.0</td>\n",
              "      <td>4.0</td>\n",
              "      <td>1.0</td>\n",
              "      <td>4.0</td>\n",
              "      <td>2.0</td>\n",
              "      <td>2.0</td>\n",
              "      <td>2.0</td>\n",
              "      <td>...</td>\n",
              "      <td>2.0</td>\n",
              "      <td>4.0</td>\n",
              "      <td>4.0</td>\n",
              "      <td>4.0</td>\n",
              "      <td>5.0</td>\n",
              "      <td>4.0</td>\n",
              "      <td>3.0</td>\n",
              "      <td>4.0</td>\n",
              "      <td>5.0</td>\n",
              "      <td>0</td>\n",
              "    </tr>\n",
              "    <tr>\n",
              "      <th>1</th>\n",
              "      <td>3.0</td>\n",
              "      <td>3.0</td>\n",
              "      <td>3.0</td>\n",
              "      <td>2.0</td>\n",
              "      <td>1.0</td>\n",
              "      <td>2.0</td>\n",
              "      <td>4.0</td>\n",
              "      <td>1.0</td>\n",
              "      <td>2.0</td>\n",
              "      <td>1.0</td>\n",
              "      <td>...</td>\n",
              "      <td>3.0</td>\n",
              "      <td>3.0</td>\n",
              "      <td>5.0</td>\n",
              "      <td>3.0</td>\n",
              "      <td>1.0</td>\n",
              "      <td>3.0</td>\n",
              "      <td>2.0</td>\n",
              "      <td>5.0</td>\n",
              "      <td>3.0</td>\n",
              "      <td>2</td>\n",
              "    </tr>\n",
              "    <tr>\n",
              "      <th>2</th>\n",
              "      <td>2.0</td>\n",
              "      <td>4.0</td>\n",
              "      <td>3.0</td>\n",
              "      <td>1.0</td>\n",
              "      <td>2.0</td>\n",
              "      <td>4.0</td>\n",
              "      <td>4.0</td>\n",
              "      <td>2.0</td>\n",
              "      <td>2.0</td>\n",
              "      <td>3.0</td>\n",
              "      <td>...</td>\n",
              "      <td>3.0</td>\n",
              "      <td>4.0</td>\n",
              "      <td>4.0</td>\n",
              "      <td>2.0</td>\n",
              "      <td>5.0</td>\n",
              "      <td>4.0</td>\n",
              "      <td>3.0</td>\n",
              "      <td>4.0</td>\n",
              "      <td>4.0</td>\n",
              "      <td>2</td>\n",
              "    </tr>\n",
              "    <tr>\n",
              "      <th>3</th>\n",
              "      <td>2.0</td>\n",
              "      <td>2.0</td>\n",
              "      <td>4.0</td>\n",
              "      <td>2.0</td>\n",
              "      <td>1.0</td>\n",
              "      <td>3.0</td>\n",
              "      <td>3.0</td>\n",
              "      <td>2.0</td>\n",
              "      <td>2.0</td>\n",
              "      <td>3.0</td>\n",
              "      <td>...</td>\n",
              "      <td>1.0</td>\n",
              "      <td>2.0</td>\n",
              "      <td>1.0</td>\n",
              "      <td>4.0</td>\n",
              "      <td>4.0</td>\n",
              "      <td>3.0</td>\n",
              "      <td>4.0</td>\n",
              "      <td>3.0</td>\n",
              "      <td>3.0</td>\n",
              "      <td>4</td>\n",
              "    </tr>\n",
              "    <tr>\n",
              "      <th>4</th>\n",
              "      <td>3.0</td>\n",
              "      <td>3.0</td>\n",
              "      <td>5.0</td>\n",
              "      <td>3.0</td>\n",
              "      <td>3.0</td>\n",
              "      <td>1.0</td>\n",
              "      <td>5.0</td>\n",
              "      <td>1.0</td>\n",
              "      <td>1.0</td>\n",
              "      <td>2.0</td>\n",
              "      <td>...</td>\n",
              "      <td>3.0</td>\n",
              "      <td>5.0</td>\n",
              "      <td>5.0</td>\n",
              "      <td>5.0</td>\n",
              "      <td>5.0</td>\n",
              "      <td>5.0</td>\n",
              "      <td>3.0</td>\n",
              "      <td>5.0</td>\n",
              "      <td>5.0</td>\n",
              "      <td>0</td>\n",
              "    </tr>\n",
              "    <tr>\n",
              "      <th>...</th>\n",
              "      <td>...</td>\n",
              "      <td>...</td>\n",
              "      <td>...</td>\n",
              "      <td>...</td>\n",
              "      <td>...</td>\n",
              "      <td>...</td>\n",
              "      <td>...</td>\n",
              "      <td>...</td>\n",
              "      <td>...</td>\n",
              "      <td>...</td>\n",
              "      <td>...</td>\n",
              "      <td>...</td>\n",
              "      <td>...</td>\n",
              "      <td>...</td>\n",
              "      <td>...</td>\n",
              "      <td>...</td>\n",
              "      <td>...</td>\n",
              "      <td>...</td>\n",
              "      <td>...</td>\n",
              "      <td>...</td>\n",
              "      <td>...</td>\n",
              "    </tr>\n",
              "    <tr>\n",
              "      <th>711958</th>\n",
              "      <td>5.0</td>\n",
              "      <td>5.0</td>\n",
              "      <td>4.0</td>\n",
              "      <td>3.0</td>\n",
              "      <td>5.0</td>\n",
              "      <td>5.0</td>\n",
              "      <td>5.0</td>\n",
              "      <td>4.0</td>\n",
              "      <td>5.0</td>\n",
              "      <td>4.0</td>\n",
              "      <td>...</td>\n",
              "      <td>3.0</td>\n",
              "      <td>3.0</td>\n",
              "      <td>2.0</td>\n",
              "      <td>4.0</td>\n",
              "      <td>4.0</td>\n",
              "      <td>3.0</td>\n",
              "      <td>3.0</td>\n",
              "      <td>4.0</td>\n",
              "      <td>4.0</td>\n",
              "      <td>3</td>\n",
              "    </tr>\n",
              "    <tr>\n",
              "      <th>711959</th>\n",
              "      <td>4.0</td>\n",
              "      <td>4.0</td>\n",
              "      <td>3.0</td>\n",
              "      <td>4.0</td>\n",
              "      <td>3.0</td>\n",
              "      <td>4.0</td>\n",
              "      <td>5.0</td>\n",
              "      <td>5.0</td>\n",
              "      <td>4.0</td>\n",
              "      <td>5.0</td>\n",
              "      <td>...</td>\n",
              "      <td>3.0</td>\n",
              "      <td>2.0</td>\n",
              "      <td>2.0</td>\n",
              "      <td>3.0</td>\n",
              "      <td>4.0</td>\n",
              "      <td>5.0</td>\n",
              "      <td>4.0</td>\n",
              "      <td>5.0</td>\n",
              "      <td>4.0</td>\n",
              "      <td>1</td>\n",
              "    </tr>\n",
              "    <tr>\n",
              "      <th>711960</th>\n",
              "      <td>4.0</td>\n",
              "      <td>4.0</td>\n",
              "      <td>5.0</td>\n",
              "      <td>4.0</td>\n",
              "      <td>4.0</td>\n",
              "      <td>3.0</td>\n",
              "      <td>4.0</td>\n",
              "      <td>2.0</td>\n",
              "      <td>4.0</td>\n",
              "      <td>1.0</td>\n",
              "      <td>...</td>\n",
              "      <td>1.0</td>\n",
              "      <td>1.0</td>\n",
              "      <td>1.0</td>\n",
              "      <td>4.0</td>\n",
              "      <td>5.0</td>\n",
              "      <td>4.0</td>\n",
              "      <td>5.0</td>\n",
              "      <td>4.0</td>\n",
              "      <td>5.0</td>\n",
              "      <td>0</td>\n",
              "    </tr>\n",
              "    <tr>\n",
              "      <th>711961</th>\n",
              "      <td>2.0</td>\n",
              "      <td>3.0</td>\n",
              "      <td>2.0</td>\n",
              "      <td>1.0</td>\n",
              "      <td>2.0</td>\n",
              "      <td>4.0</td>\n",
              "      <td>4.0</td>\n",
              "      <td>4.0</td>\n",
              "      <td>2.0</td>\n",
              "      <td>4.0</td>\n",
              "      <td>...</td>\n",
              "      <td>2.0</td>\n",
              "      <td>4.0</td>\n",
              "      <td>4.0</td>\n",
              "      <td>4.0</td>\n",
              "      <td>5.0</td>\n",
              "      <td>3.0</td>\n",
              "      <td>5.0</td>\n",
              "      <td>5.0</td>\n",
              "      <td>3.0</td>\n",
              "      <td>1</td>\n",
              "    </tr>\n",
              "    <tr>\n",
              "      <th>711962</th>\n",
              "      <td>4.0</td>\n",
              "      <td>4.0</td>\n",
              "      <td>4.0</td>\n",
              "      <td>4.0</td>\n",
              "      <td>4.0</td>\n",
              "      <td>4.0</td>\n",
              "      <td>4.0</td>\n",
              "      <td>3.0</td>\n",
              "      <td>3.0</td>\n",
              "      <td>2.0</td>\n",
              "      <td>...</td>\n",
              "      <td>2.0</td>\n",
              "      <td>3.0</td>\n",
              "      <td>2.0</td>\n",
              "      <td>3.0</td>\n",
              "      <td>5.0</td>\n",
              "      <td>3.0</td>\n",
              "      <td>4.0</td>\n",
              "      <td>5.0</td>\n",
              "      <td>5.0</td>\n",
              "      <td>3</td>\n",
              "    </tr>\n",
              "  </tbody>\n",
              "</table>\n",
              "<p>711963 rows × 26 columns</p>\n",
              "</div>\n",
              "      <button class=\"colab-df-convert\" onclick=\"convertToInteractive('df-cf9fb8ca-62fc-400c-8b4a-8f6decdb77bc')\"\n",
              "              title=\"Convert this dataframe to an interactive table.\"\n",
              "              style=\"display:none;\">\n",
              "        \n",
              "  <svg xmlns=\"http://www.w3.org/2000/svg\" height=\"24px\"viewBox=\"0 0 24 24\"\n",
              "       width=\"24px\">\n",
              "    <path d=\"M0 0h24v24H0V0z\" fill=\"none\"/>\n",
              "    <path d=\"M18.56 5.44l.94 2.06.94-2.06 2.06-.94-2.06-.94-.94-2.06-.94 2.06-2.06.94zm-11 1L8.5 8.5l.94-2.06 2.06-.94-2.06-.94L8.5 2.5l-.94 2.06-2.06.94zm10 10l.94 2.06.94-2.06 2.06-.94-2.06-.94-.94-2.06-.94 2.06-2.06.94z\"/><path d=\"M17.41 7.96l-1.37-1.37c-.4-.4-.92-.59-1.43-.59-.52 0-1.04.2-1.43.59L10.3 9.45l-7.72 7.72c-.78.78-.78 2.05 0 2.83L4 21.41c.39.39.9.59 1.41.59.51 0 1.02-.2 1.41-.59l7.78-7.78 2.81-2.81c.8-.78.8-2.07 0-2.86zM5.41 20L4 18.59l7.72-7.72 1.47 1.35L5.41 20z\"/>\n",
              "  </svg>\n",
              "      </button>\n",
              "      \n",
              "  <style>\n",
              "    .colab-df-container {\n",
              "      display:flex;\n",
              "      flex-wrap:wrap;\n",
              "      gap: 12px;\n",
              "    }\n",
              "\n",
              "    .colab-df-convert {\n",
              "      background-color: #E8F0FE;\n",
              "      border: none;\n",
              "      border-radius: 50%;\n",
              "      cursor: pointer;\n",
              "      display: none;\n",
              "      fill: #1967D2;\n",
              "      height: 32px;\n",
              "      padding: 0 0 0 0;\n",
              "      width: 32px;\n",
              "    }\n",
              "\n",
              "    .colab-df-convert:hover {\n",
              "      background-color: #E2EBFA;\n",
              "      box-shadow: 0px 1px 2px rgba(60, 64, 67, 0.3), 0px 1px 3px 1px rgba(60, 64, 67, 0.15);\n",
              "      fill: #174EA6;\n",
              "    }\n",
              "\n",
              "    [theme=dark] .colab-df-convert {\n",
              "      background-color: #3B4455;\n",
              "      fill: #D2E3FC;\n",
              "    }\n",
              "\n",
              "    [theme=dark] .colab-df-convert:hover {\n",
              "      background-color: #434B5C;\n",
              "      box-shadow: 0px 1px 3px 1px rgba(0, 0, 0, 0.15);\n",
              "      filter: drop-shadow(0px 1px 2px rgba(0, 0, 0, 0.3));\n",
              "      fill: #FFFFFF;\n",
              "    }\n",
              "  </style>\n",
              "\n",
              "      <script>\n",
              "        const buttonEl =\n",
              "          document.querySelector('#df-cf9fb8ca-62fc-400c-8b4a-8f6decdb77bc button.colab-df-convert');\n",
              "        buttonEl.style.display =\n",
              "          google.colab.kernel.accessAllowed ? 'block' : 'none';\n",
              "\n",
              "        async function convertToInteractive(key) {\n",
              "          const element = document.querySelector('#df-cf9fb8ca-62fc-400c-8b4a-8f6decdb77bc');\n",
              "          const dataTable =\n",
              "            await google.colab.kernel.invokeFunction('convertToInteractive',\n",
              "                                                     [key], {});\n",
              "          if (!dataTable) return;\n",
              "\n",
              "          const docLinkHtml = 'Like what you see? Visit the ' +\n",
              "            '<a target=\"_blank\" href=https://colab.research.google.com/notebooks/data_table.ipynb>data table notebook</a>'\n",
              "            + ' to learn more about interactive tables.';\n",
              "          element.innerHTML = '';\n",
              "          dataTable['output_type'] = 'display_data';\n",
              "          await google.colab.output.renderOutput(dataTable, element);\n",
              "          const docLink = document.createElement('div');\n",
              "          docLink.innerHTML = docLinkHtml;\n",
              "          element.appendChild(docLink);\n",
              "        }\n",
              "      </script>\n",
              "    </div>\n",
              "  </div>\n",
              "  "
            ]
          },
          "metadata": {},
          "execution_count": 18
        }
      ]
    },
    {
      "cell_type": "code",
      "source": [
        "# getting some information about the data\n",
        "df.info()"
      ],
      "metadata": {
        "colab": {
          "base_uri": "https://localhost:8080/"
        },
        "id": "QZMCPXtvE9Ww",
        "outputId": "5723d95f-4d18-4bf2-9ce6-dce6fa0ff489"
      },
      "execution_count": 19,
      "outputs": [
        {
          "output_type": "stream",
          "name": "stdout",
          "text": [
            "<class 'pandas.core.frame.DataFrame'>\n",
            "RangeIndex: 711963 entries, 0 to 711962\n",
            "Data columns (total 26 columns):\n",
            " #   Column  Non-Null Count   Dtype  \n",
            "---  ------  --------------   -----  \n",
            " 0   EXT1    711963 non-null  float64\n",
            " 1   EXT3    711963 non-null  float64\n",
            " 2   EXT5    711963 non-null  float64\n",
            " 3   EXT7    711963 non-null  float64\n",
            " 4   EXT9    711963 non-null  float64\n",
            " 5   EST1    711963 non-null  float64\n",
            " 6   EST3    711963 non-null  float64\n",
            " 7   EST6    711963 non-null  float64\n",
            " 8   EST7    711963 non-null  float64\n",
            " 9   EST10   711963 non-null  float64\n",
            " 10  AGR4    711963 non-null  float64\n",
            " 11  AGR6    711963 non-null  float64\n",
            " 12  AGR8    711963 non-null  float64\n",
            " 13  AGR9    711963 non-null  float64\n",
            " 14  AGR10   711963 non-null  float64\n",
            " 15  CSN1    711963 non-null  float64\n",
            " 16  CSN5    711963 non-null  float64\n",
            " 17  CSN7    711963 non-null  float64\n",
            " 18  CSN9    711963 non-null  float64\n",
            " 19  CSN10   711963 non-null  float64\n",
            " 20  OPN1    711963 non-null  float64\n",
            " 21  OPN5    711963 non-null  float64\n",
            " 22  OPN8    711963 non-null  float64\n",
            " 23  OPN9    711963 non-null  float64\n",
            " 24  OPN10   711963 non-null  float64\n",
            " 25  labels  711963 non-null  int64  \n",
            "dtypes: float64(25), int64(1)\n",
            "memory usage: 141.2 MB\n"
          ]
        }
      ]
    },
    {
      "cell_type": "code",
      "source": [
        "# statistical measures about the data\n",
        "df.describe()"
      ],
      "metadata": {
        "colab": {
          "base_uri": "https://localhost:8080/",
          "height": 0
        },
        "id": "1CMdwjgiFIst",
        "outputId": "3510690e-f7a6-4638-be24-83973217b90b"
      },
      "execution_count": 20,
      "outputs": [
        {
          "output_type": "execute_result",
          "data": {
            "text/plain": [
              "                EXT1           EXT3           EXT5           EXT7  \\\n",
              "count  711963.000000  711963.000000  711963.000000  711963.000000   \n",
              "mean        2.675364       3.357805       3.352702       2.823718   \n",
              "std         1.222582       1.139285       1.192673       1.351908   \n",
              "min         1.000000       1.000000       1.000000       1.000000   \n",
              "25%         2.000000       3.000000       2.000000       2.000000   \n",
              "50%         3.000000       3.000000       4.000000       3.000000   \n",
              "75%         4.000000       4.000000       4.000000       4.000000   \n",
              "max         5.000000       5.000000       5.000000       5.000000   \n",
              "\n",
              "                EXT9           EST1           EST3           EST6  \\\n",
              "count  711963.000000  711963.000000  711963.000000  711963.000000   \n",
              "mean        2.993576       3.306509       3.886288       2.842194   \n",
              "std         1.291578       1.288392       1.090061       1.263299   \n",
              "min         1.000000       1.000000       1.000000       1.000000   \n",
              "25%         2.000000       2.000000       3.000000       2.000000   \n",
              "50%         3.000000       3.000000       4.000000       3.000000   \n",
              "75%         4.000000       4.000000       5.000000       4.000000   \n",
              "max         5.000000       5.000000       5.000000       5.000000   \n",
              "\n",
              "                EST7          EST10  ...           CSN5           CSN7  \\\n",
              "count  711963.000000  711963.000000  ...  711963.000000  711963.000000   \n",
              "mean        3.030153       2.768274  ...       2.719799       3.800422   \n",
              "std         1.236890       1.268118  ...       1.220807       1.011567   \n",
              "min         1.000000       1.000000  ...       1.000000       1.000000   \n",
              "25%         2.000000       2.000000  ...       2.000000       3.000000   \n",
              "50%         3.000000       3.000000  ...       3.000000       4.000000   \n",
              "75%         4.000000       4.000000  ...       4.000000       5.000000   \n",
              "max         5.000000       5.000000  ...       5.000000       5.000000   \n",
              "\n",
              "                CSN9         CSN10           OPN1           OPN5  \\\n",
              "count  711963.000000  711963.00000  711963.000000  711963.000000   \n",
              "mean        3.333387       3.72597       3.744856       3.857605   \n",
              "std         1.182091       0.89193       1.056115       0.881973   \n",
              "min         1.000000       2.00000       1.000000       1.000000   \n",
              "25%         2.000000       3.00000       3.000000       3.000000   \n",
              "50%         3.000000       4.00000       4.000000       4.000000   \n",
              "75%         4.000000       4.00000       5.000000       5.000000   \n",
              "max         5.000000       5.00000       5.000000       5.000000   \n",
              "\n",
              "                OPN8           OPN9          OPN10         labels  \n",
              "count  711963.000000  711963.000000  711963.000000  711963.000000  \n",
              "mean        3.252411       4.340848       4.019911       2.005940  \n",
              "std         1.184793       0.704847       0.935402       1.302729  \n",
              "min         1.000000       3.000000       1.000000       0.000000  \n",
              "25%         2.000000       4.000000       3.000000       1.000000  \n",
              "50%         3.000000       4.000000       4.000000       2.000000  \n",
              "75%         4.000000       5.000000       5.000000       3.000000  \n",
              "max         5.000000       5.000000       5.000000       4.000000  \n",
              "\n",
              "[8 rows x 26 columns]"
            ],
            "text/html": [
              "\n",
              "  <div id=\"df-15626aeb-367a-4855-9cb7-4163fbdb2c18\">\n",
              "    <div class=\"colab-df-container\">\n",
              "      <div>\n",
              "<style scoped>\n",
              "    .dataframe tbody tr th:only-of-type {\n",
              "        vertical-align: middle;\n",
              "    }\n",
              "\n",
              "    .dataframe tbody tr th {\n",
              "        vertical-align: top;\n",
              "    }\n",
              "\n",
              "    .dataframe thead th {\n",
              "        text-align: right;\n",
              "    }\n",
              "</style>\n",
              "<table border=\"1\" class=\"dataframe\">\n",
              "  <thead>\n",
              "    <tr style=\"text-align: right;\">\n",
              "      <th></th>\n",
              "      <th>EXT1</th>\n",
              "      <th>EXT3</th>\n",
              "      <th>EXT5</th>\n",
              "      <th>EXT7</th>\n",
              "      <th>EXT9</th>\n",
              "      <th>EST1</th>\n",
              "      <th>EST3</th>\n",
              "      <th>EST6</th>\n",
              "      <th>EST7</th>\n",
              "      <th>EST10</th>\n",
              "      <th>...</th>\n",
              "      <th>CSN5</th>\n",
              "      <th>CSN7</th>\n",
              "      <th>CSN9</th>\n",
              "      <th>CSN10</th>\n",
              "      <th>OPN1</th>\n",
              "      <th>OPN5</th>\n",
              "      <th>OPN8</th>\n",
              "      <th>OPN9</th>\n",
              "      <th>OPN10</th>\n",
              "      <th>labels</th>\n",
              "    </tr>\n",
              "  </thead>\n",
              "  <tbody>\n",
              "    <tr>\n",
              "      <th>count</th>\n",
              "      <td>711963.000000</td>\n",
              "      <td>711963.000000</td>\n",
              "      <td>711963.000000</td>\n",
              "      <td>711963.000000</td>\n",
              "      <td>711963.000000</td>\n",
              "      <td>711963.000000</td>\n",
              "      <td>711963.000000</td>\n",
              "      <td>711963.000000</td>\n",
              "      <td>711963.000000</td>\n",
              "      <td>711963.000000</td>\n",
              "      <td>...</td>\n",
              "      <td>711963.000000</td>\n",
              "      <td>711963.000000</td>\n",
              "      <td>711963.000000</td>\n",
              "      <td>711963.00000</td>\n",
              "      <td>711963.000000</td>\n",
              "      <td>711963.000000</td>\n",
              "      <td>711963.000000</td>\n",
              "      <td>711963.000000</td>\n",
              "      <td>711963.000000</td>\n",
              "      <td>711963.000000</td>\n",
              "    </tr>\n",
              "    <tr>\n",
              "      <th>mean</th>\n",
              "      <td>2.675364</td>\n",
              "      <td>3.357805</td>\n",
              "      <td>3.352702</td>\n",
              "      <td>2.823718</td>\n",
              "      <td>2.993576</td>\n",
              "      <td>3.306509</td>\n",
              "      <td>3.886288</td>\n",
              "      <td>2.842194</td>\n",
              "      <td>3.030153</td>\n",
              "      <td>2.768274</td>\n",
              "      <td>...</td>\n",
              "      <td>2.719799</td>\n",
              "      <td>3.800422</td>\n",
              "      <td>3.333387</td>\n",
              "      <td>3.72597</td>\n",
              "      <td>3.744856</td>\n",
              "      <td>3.857605</td>\n",
              "      <td>3.252411</td>\n",
              "      <td>4.340848</td>\n",
              "      <td>4.019911</td>\n",
              "      <td>2.005940</td>\n",
              "    </tr>\n",
              "    <tr>\n",
              "      <th>std</th>\n",
              "      <td>1.222582</td>\n",
              "      <td>1.139285</td>\n",
              "      <td>1.192673</td>\n",
              "      <td>1.351908</td>\n",
              "      <td>1.291578</td>\n",
              "      <td>1.288392</td>\n",
              "      <td>1.090061</td>\n",
              "      <td>1.263299</td>\n",
              "      <td>1.236890</td>\n",
              "      <td>1.268118</td>\n",
              "      <td>...</td>\n",
              "      <td>1.220807</td>\n",
              "      <td>1.011567</td>\n",
              "      <td>1.182091</td>\n",
              "      <td>0.89193</td>\n",
              "      <td>1.056115</td>\n",
              "      <td>0.881973</td>\n",
              "      <td>1.184793</td>\n",
              "      <td>0.704847</td>\n",
              "      <td>0.935402</td>\n",
              "      <td>1.302729</td>\n",
              "    </tr>\n",
              "    <tr>\n",
              "      <th>min</th>\n",
              "      <td>1.000000</td>\n",
              "      <td>1.000000</td>\n",
              "      <td>1.000000</td>\n",
              "      <td>1.000000</td>\n",
              "      <td>1.000000</td>\n",
              "      <td>1.000000</td>\n",
              "      <td>1.000000</td>\n",
              "      <td>1.000000</td>\n",
              "      <td>1.000000</td>\n",
              "      <td>1.000000</td>\n",
              "      <td>...</td>\n",
              "      <td>1.000000</td>\n",
              "      <td>1.000000</td>\n",
              "      <td>1.000000</td>\n",
              "      <td>2.00000</td>\n",
              "      <td>1.000000</td>\n",
              "      <td>1.000000</td>\n",
              "      <td>1.000000</td>\n",
              "      <td>3.000000</td>\n",
              "      <td>1.000000</td>\n",
              "      <td>0.000000</td>\n",
              "    </tr>\n",
              "    <tr>\n",
              "      <th>25%</th>\n",
              "      <td>2.000000</td>\n",
              "      <td>3.000000</td>\n",
              "      <td>2.000000</td>\n",
              "      <td>2.000000</td>\n",
              "      <td>2.000000</td>\n",
              "      <td>2.000000</td>\n",
              "      <td>3.000000</td>\n",
              "      <td>2.000000</td>\n",
              "      <td>2.000000</td>\n",
              "      <td>2.000000</td>\n",
              "      <td>...</td>\n",
              "      <td>2.000000</td>\n",
              "      <td>3.000000</td>\n",
              "      <td>2.000000</td>\n",
              "      <td>3.00000</td>\n",
              "      <td>3.000000</td>\n",
              "      <td>3.000000</td>\n",
              "      <td>2.000000</td>\n",
              "      <td>4.000000</td>\n",
              "      <td>3.000000</td>\n",
              "      <td>1.000000</td>\n",
              "    </tr>\n",
              "    <tr>\n",
              "      <th>50%</th>\n",
              "      <td>3.000000</td>\n",
              "      <td>3.000000</td>\n",
              "      <td>4.000000</td>\n",
              "      <td>3.000000</td>\n",
              "      <td>3.000000</td>\n",
              "      <td>3.000000</td>\n",
              "      <td>4.000000</td>\n",
              "      <td>3.000000</td>\n",
              "      <td>3.000000</td>\n",
              "      <td>3.000000</td>\n",
              "      <td>...</td>\n",
              "      <td>3.000000</td>\n",
              "      <td>4.000000</td>\n",
              "      <td>3.000000</td>\n",
              "      <td>4.00000</td>\n",
              "      <td>4.000000</td>\n",
              "      <td>4.000000</td>\n",
              "      <td>3.000000</td>\n",
              "      <td>4.000000</td>\n",
              "      <td>4.000000</td>\n",
              "      <td>2.000000</td>\n",
              "    </tr>\n",
              "    <tr>\n",
              "      <th>75%</th>\n",
              "      <td>4.000000</td>\n",
              "      <td>4.000000</td>\n",
              "      <td>4.000000</td>\n",
              "      <td>4.000000</td>\n",
              "      <td>4.000000</td>\n",
              "      <td>4.000000</td>\n",
              "      <td>5.000000</td>\n",
              "      <td>4.000000</td>\n",
              "      <td>4.000000</td>\n",
              "      <td>4.000000</td>\n",
              "      <td>...</td>\n",
              "      <td>4.000000</td>\n",
              "      <td>5.000000</td>\n",
              "      <td>4.000000</td>\n",
              "      <td>4.00000</td>\n",
              "      <td>5.000000</td>\n",
              "      <td>5.000000</td>\n",
              "      <td>4.000000</td>\n",
              "      <td>5.000000</td>\n",
              "      <td>5.000000</td>\n",
              "      <td>3.000000</td>\n",
              "    </tr>\n",
              "    <tr>\n",
              "      <th>max</th>\n",
              "      <td>5.000000</td>\n",
              "      <td>5.000000</td>\n",
              "      <td>5.000000</td>\n",
              "      <td>5.000000</td>\n",
              "      <td>5.000000</td>\n",
              "      <td>5.000000</td>\n",
              "      <td>5.000000</td>\n",
              "      <td>5.000000</td>\n",
              "      <td>5.000000</td>\n",
              "      <td>5.000000</td>\n",
              "      <td>...</td>\n",
              "      <td>5.000000</td>\n",
              "      <td>5.000000</td>\n",
              "      <td>5.000000</td>\n",
              "      <td>5.00000</td>\n",
              "      <td>5.000000</td>\n",
              "      <td>5.000000</td>\n",
              "      <td>5.000000</td>\n",
              "      <td>5.000000</td>\n",
              "      <td>5.000000</td>\n",
              "      <td>4.000000</td>\n",
              "    </tr>\n",
              "  </tbody>\n",
              "</table>\n",
              "<p>8 rows × 26 columns</p>\n",
              "</div>\n",
              "      <button class=\"colab-df-convert\" onclick=\"convertToInteractive('df-15626aeb-367a-4855-9cb7-4163fbdb2c18')\"\n",
              "              title=\"Convert this dataframe to an interactive table.\"\n",
              "              style=\"display:none;\">\n",
              "        \n",
              "  <svg xmlns=\"http://www.w3.org/2000/svg\" height=\"24px\"viewBox=\"0 0 24 24\"\n",
              "       width=\"24px\">\n",
              "    <path d=\"M0 0h24v24H0V0z\" fill=\"none\"/>\n",
              "    <path d=\"M18.56 5.44l.94 2.06.94-2.06 2.06-.94-2.06-.94-.94-2.06-.94 2.06-2.06.94zm-11 1L8.5 8.5l.94-2.06 2.06-.94-2.06-.94L8.5 2.5l-.94 2.06-2.06.94zm10 10l.94 2.06.94-2.06 2.06-.94-2.06-.94-.94-2.06-.94 2.06-2.06.94z\"/><path d=\"M17.41 7.96l-1.37-1.37c-.4-.4-.92-.59-1.43-.59-.52 0-1.04.2-1.43.59L10.3 9.45l-7.72 7.72c-.78.78-.78 2.05 0 2.83L4 21.41c.39.39.9.59 1.41.59.51 0 1.02-.2 1.41-.59l7.78-7.78 2.81-2.81c.8-.78.8-2.07 0-2.86zM5.41 20L4 18.59l7.72-7.72 1.47 1.35L5.41 20z\"/>\n",
              "  </svg>\n",
              "      </button>\n",
              "      \n",
              "  <style>\n",
              "    .colab-df-container {\n",
              "      display:flex;\n",
              "      flex-wrap:wrap;\n",
              "      gap: 12px;\n",
              "    }\n",
              "\n",
              "    .colab-df-convert {\n",
              "      background-color: #E8F0FE;\n",
              "      border: none;\n",
              "      border-radius: 50%;\n",
              "      cursor: pointer;\n",
              "      display: none;\n",
              "      fill: #1967D2;\n",
              "      height: 32px;\n",
              "      padding: 0 0 0 0;\n",
              "      width: 32px;\n",
              "    }\n",
              "\n",
              "    .colab-df-convert:hover {\n",
              "      background-color: #E2EBFA;\n",
              "      box-shadow: 0px 1px 2px rgba(60, 64, 67, 0.3), 0px 1px 3px 1px rgba(60, 64, 67, 0.15);\n",
              "      fill: #174EA6;\n",
              "    }\n",
              "\n",
              "    [theme=dark] .colab-df-convert {\n",
              "      background-color: #3B4455;\n",
              "      fill: #D2E3FC;\n",
              "    }\n",
              "\n",
              "    [theme=dark] .colab-df-convert:hover {\n",
              "      background-color: #434B5C;\n",
              "      box-shadow: 0px 1px 3px 1px rgba(0, 0, 0, 0.15);\n",
              "      filter: drop-shadow(0px 1px 2px rgba(0, 0, 0, 0.3));\n",
              "      fill: #FFFFFF;\n",
              "    }\n",
              "  </style>\n",
              "\n",
              "      <script>\n",
              "        const buttonEl =\n",
              "          document.querySelector('#df-15626aeb-367a-4855-9cb7-4163fbdb2c18 button.colab-df-convert');\n",
              "        buttonEl.style.display =\n",
              "          google.colab.kernel.accessAllowed ? 'block' : 'none';\n",
              "\n",
              "        async function convertToInteractive(key) {\n",
              "          const element = document.querySelector('#df-15626aeb-367a-4855-9cb7-4163fbdb2c18');\n",
              "          const dataTable =\n",
              "            await google.colab.kernel.invokeFunction('convertToInteractive',\n",
              "                                                     [key], {});\n",
              "          if (!dataTable) return;\n",
              "\n",
              "          const docLinkHtml = 'Like what you see? Visit the ' +\n",
              "            '<a target=\"_blank\" href=https://colab.research.google.com/notebooks/data_table.ipynb>data table notebook</a>'\n",
              "            + ' to learn more about interactive tables.';\n",
              "          element.innerHTML = '';\n",
              "          dataTable['output_type'] = 'display_data';\n",
              "          await google.colab.output.renderOutput(dataTable, element);\n",
              "          const docLink = document.createElement('div');\n",
              "          docLink.innerHTML = docLinkHtml;\n",
              "          element.appendChild(docLink);\n",
              "        }\n",
              "      </script>\n",
              "    </div>\n",
              "  </div>\n",
              "  "
            ]
          },
          "metadata": {},
          "execution_count": 20
        }
      ]
    },
    {
      "cell_type": "code",
      "source": [
        "# checking the distribution of Target Varibale\n",
        "df['labels'].value_counts()"
      ],
      "metadata": {
        "colab": {
          "base_uri": "https://localhost:8080/"
        },
        "id": "3Ub-pmfZFOVk",
        "outputId": "13c78d31-706f-4532-ef78-5049f51cd68a"
      },
      "execution_count": 21,
      "outputs": [
        {
          "output_type": "execute_result",
          "data": {
            "text/plain": [
              "2    181651\n",
              "1    153575\n",
              "3    150742\n",
              "4    114763\n",
              "0    111232\n",
              "Name: labels, dtype: int64"
            ]
          },
          "metadata": {},
          "execution_count": 21
        }
      ]
    },
    {
      "cell_type": "code",
      "source": [
        "df.groupby('labels').mean()"
      ],
      "metadata": {
        "colab": {
          "base_uri": "https://localhost:8080/",
          "height": 0
        },
        "id": "jbZBZUDJFXZY",
        "outputId": "e494a55b-6ec0-4c06-96d6-566a5c60a385"
      },
      "execution_count": 22,
      "outputs": [
        {
          "output_type": "execute_result",
          "data": {
            "text/plain": [
              "            EXT1      EXT3      EXT5      EXT7      EXT9      EST1      EST3  \\\n",
              "labels                                                                         \n",
              "0       3.648123  4.477857  4.409082  4.071256  3.911006  2.173421  3.018529   \n",
              "1       2.122780  2.695282  2.806179  2.129298  2.407586  4.303194  4.640723   \n",
              "2       2.674943  3.428498  3.303593  2.771650  3.090030  2.532169  3.244089   \n",
              "3       3.251821  3.926205  4.058637  3.540520  3.443174  3.820594  4.402595   \n",
              "4       1.715483  2.300306  2.210660  1.684724  2.145317  3.621376  4.056090   \n",
              "\n",
              "            EST6      EST7     EST10  ...      CSN1      CSN5      CSN7  \\\n",
              "labels                                ...                                 \n",
              "0       1.829105  2.095206  1.644509  ...  3.875333  3.213266  3.921569   \n",
              "1       3.801765  3.846557  3.712759  ...  3.381306  2.514550  3.865655   \n",
              "2       2.171466  2.468662  2.218413  ...  3.482667  2.662006  3.631513   \n",
              "3       3.247827  3.399258  2.873990  ...  3.703341  2.970008  4.016406   \n",
              "4       3.068872  3.247754  3.325044  ...  3.143086  2.279001  3.579368   \n",
              "\n",
              "            CSN9     CSN10      OPN1      OPN5      OPN8      OPN9     OPN10  \n",
              "labels                                                                        \n",
              "0       3.662076  4.046695  4.037822  4.347319  3.393007  4.321544  4.469802  \n",
              "1       3.311099  3.647508  3.609780  3.594081  3.172040  4.503689  3.851070  \n",
              "2       3.152270  3.619088  3.764180  3.877766  3.262470  4.145813  3.964646  \n",
              "3       3.695340  3.979508  3.815997  4.107575  3.315871  4.514787  4.285269  \n",
              "4       2.855886  3.356265  3.517632  3.375356  3.124413  4.221883  3.548731  \n",
              "\n",
              "[5 rows x 25 columns]"
            ],
            "text/html": [
              "\n",
              "  <div id=\"df-da9dc891-8a55-4940-a3f8-050d05988cf5\">\n",
              "    <div class=\"colab-df-container\">\n",
              "      <div>\n",
              "<style scoped>\n",
              "    .dataframe tbody tr th:only-of-type {\n",
              "        vertical-align: middle;\n",
              "    }\n",
              "\n",
              "    .dataframe tbody tr th {\n",
              "        vertical-align: top;\n",
              "    }\n",
              "\n",
              "    .dataframe thead th {\n",
              "        text-align: right;\n",
              "    }\n",
              "</style>\n",
              "<table border=\"1\" class=\"dataframe\">\n",
              "  <thead>\n",
              "    <tr style=\"text-align: right;\">\n",
              "      <th></th>\n",
              "      <th>EXT1</th>\n",
              "      <th>EXT3</th>\n",
              "      <th>EXT5</th>\n",
              "      <th>EXT7</th>\n",
              "      <th>EXT9</th>\n",
              "      <th>EST1</th>\n",
              "      <th>EST3</th>\n",
              "      <th>EST6</th>\n",
              "      <th>EST7</th>\n",
              "      <th>EST10</th>\n",
              "      <th>...</th>\n",
              "      <th>CSN1</th>\n",
              "      <th>CSN5</th>\n",
              "      <th>CSN7</th>\n",
              "      <th>CSN9</th>\n",
              "      <th>CSN10</th>\n",
              "      <th>OPN1</th>\n",
              "      <th>OPN5</th>\n",
              "      <th>OPN8</th>\n",
              "      <th>OPN9</th>\n",
              "      <th>OPN10</th>\n",
              "    </tr>\n",
              "    <tr>\n",
              "      <th>labels</th>\n",
              "      <th></th>\n",
              "      <th></th>\n",
              "      <th></th>\n",
              "      <th></th>\n",
              "      <th></th>\n",
              "      <th></th>\n",
              "      <th></th>\n",
              "      <th></th>\n",
              "      <th></th>\n",
              "      <th></th>\n",
              "      <th></th>\n",
              "      <th></th>\n",
              "      <th></th>\n",
              "      <th></th>\n",
              "      <th></th>\n",
              "      <th></th>\n",
              "      <th></th>\n",
              "      <th></th>\n",
              "      <th></th>\n",
              "      <th></th>\n",
              "      <th></th>\n",
              "    </tr>\n",
              "  </thead>\n",
              "  <tbody>\n",
              "    <tr>\n",
              "      <th>0</th>\n",
              "      <td>3.648123</td>\n",
              "      <td>4.477857</td>\n",
              "      <td>4.409082</td>\n",
              "      <td>4.071256</td>\n",
              "      <td>3.911006</td>\n",
              "      <td>2.173421</td>\n",
              "      <td>3.018529</td>\n",
              "      <td>1.829105</td>\n",
              "      <td>2.095206</td>\n",
              "      <td>1.644509</td>\n",
              "      <td>...</td>\n",
              "      <td>3.875333</td>\n",
              "      <td>3.213266</td>\n",
              "      <td>3.921569</td>\n",
              "      <td>3.662076</td>\n",
              "      <td>4.046695</td>\n",
              "      <td>4.037822</td>\n",
              "      <td>4.347319</td>\n",
              "      <td>3.393007</td>\n",
              "      <td>4.321544</td>\n",
              "      <td>4.469802</td>\n",
              "    </tr>\n",
              "    <tr>\n",
              "      <th>1</th>\n",
              "      <td>2.122780</td>\n",
              "      <td>2.695282</td>\n",
              "      <td>2.806179</td>\n",
              "      <td>2.129298</td>\n",
              "      <td>2.407586</td>\n",
              "      <td>4.303194</td>\n",
              "      <td>4.640723</td>\n",
              "      <td>3.801765</td>\n",
              "      <td>3.846557</td>\n",
              "      <td>3.712759</td>\n",
              "      <td>...</td>\n",
              "      <td>3.381306</td>\n",
              "      <td>2.514550</td>\n",
              "      <td>3.865655</td>\n",
              "      <td>3.311099</td>\n",
              "      <td>3.647508</td>\n",
              "      <td>3.609780</td>\n",
              "      <td>3.594081</td>\n",
              "      <td>3.172040</td>\n",
              "      <td>4.503689</td>\n",
              "      <td>3.851070</td>\n",
              "    </tr>\n",
              "    <tr>\n",
              "      <th>2</th>\n",
              "      <td>2.674943</td>\n",
              "      <td>3.428498</td>\n",
              "      <td>3.303593</td>\n",
              "      <td>2.771650</td>\n",
              "      <td>3.090030</td>\n",
              "      <td>2.532169</td>\n",
              "      <td>3.244089</td>\n",
              "      <td>2.171466</td>\n",
              "      <td>2.468662</td>\n",
              "      <td>2.218413</td>\n",
              "      <td>...</td>\n",
              "      <td>3.482667</td>\n",
              "      <td>2.662006</td>\n",
              "      <td>3.631513</td>\n",
              "      <td>3.152270</td>\n",
              "      <td>3.619088</td>\n",
              "      <td>3.764180</td>\n",
              "      <td>3.877766</td>\n",
              "      <td>3.262470</td>\n",
              "      <td>4.145813</td>\n",
              "      <td>3.964646</td>\n",
              "    </tr>\n",
              "    <tr>\n",
              "      <th>3</th>\n",
              "      <td>3.251821</td>\n",
              "      <td>3.926205</td>\n",
              "      <td>4.058637</td>\n",
              "      <td>3.540520</td>\n",
              "      <td>3.443174</td>\n",
              "      <td>3.820594</td>\n",
              "      <td>4.402595</td>\n",
              "      <td>3.247827</td>\n",
              "      <td>3.399258</td>\n",
              "      <td>2.873990</td>\n",
              "      <td>...</td>\n",
              "      <td>3.703341</td>\n",
              "      <td>2.970008</td>\n",
              "      <td>4.016406</td>\n",
              "      <td>3.695340</td>\n",
              "      <td>3.979508</td>\n",
              "      <td>3.815997</td>\n",
              "      <td>4.107575</td>\n",
              "      <td>3.315871</td>\n",
              "      <td>4.514787</td>\n",
              "      <td>4.285269</td>\n",
              "    </tr>\n",
              "    <tr>\n",
              "      <th>4</th>\n",
              "      <td>1.715483</td>\n",
              "      <td>2.300306</td>\n",
              "      <td>2.210660</td>\n",
              "      <td>1.684724</td>\n",
              "      <td>2.145317</td>\n",
              "      <td>3.621376</td>\n",
              "      <td>4.056090</td>\n",
              "      <td>3.068872</td>\n",
              "      <td>3.247754</td>\n",
              "      <td>3.325044</td>\n",
              "      <td>...</td>\n",
              "      <td>3.143086</td>\n",
              "      <td>2.279001</td>\n",
              "      <td>3.579368</td>\n",
              "      <td>2.855886</td>\n",
              "      <td>3.356265</td>\n",
              "      <td>3.517632</td>\n",
              "      <td>3.375356</td>\n",
              "      <td>3.124413</td>\n",
              "      <td>4.221883</td>\n",
              "      <td>3.548731</td>\n",
              "    </tr>\n",
              "  </tbody>\n",
              "</table>\n",
              "<p>5 rows × 25 columns</p>\n",
              "</div>\n",
              "      <button class=\"colab-df-convert\" onclick=\"convertToInteractive('df-da9dc891-8a55-4940-a3f8-050d05988cf5')\"\n",
              "              title=\"Convert this dataframe to an interactive table.\"\n",
              "              style=\"display:none;\">\n",
              "        \n",
              "  <svg xmlns=\"http://www.w3.org/2000/svg\" height=\"24px\"viewBox=\"0 0 24 24\"\n",
              "       width=\"24px\">\n",
              "    <path d=\"M0 0h24v24H0V0z\" fill=\"none\"/>\n",
              "    <path d=\"M18.56 5.44l.94 2.06.94-2.06 2.06-.94-2.06-.94-.94-2.06-.94 2.06-2.06.94zm-11 1L8.5 8.5l.94-2.06 2.06-.94-2.06-.94L8.5 2.5l-.94 2.06-2.06.94zm10 10l.94 2.06.94-2.06 2.06-.94-2.06-.94-.94-2.06-.94 2.06-2.06.94z\"/><path d=\"M17.41 7.96l-1.37-1.37c-.4-.4-.92-.59-1.43-.59-.52 0-1.04.2-1.43.59L10.3 9.45l-7.72 7.72c-.78.78-.78 2.05 0 2.83L4 21.41c.39.39.9.59 1.41.59.51 0 1.02-.2 1.41-.59l7.78-7.78 2.81-2.81c.8-.78.8-2.07 0-2.86zM5.41 20L4 18.59l7.72-7.72 1.47 1.35L5.41 20z\"/>\n",
              "  </svg>\n",
              "      </button>\n",
              "      \n",
              "  <style>\n",
              "    .colab-df-container {\n",
              "      display:flex;\n",
              "      flex-wrap:wrap;\n",
              "      gap: 12px;\n",
              "    }\n",
              "\n",
              "    .colab-df-convert {\n",
              "      background-color: #E8F0FE;\n",
              "      border: none;\n",
              "      border-radius: 50%;\n",
              "      cursor: pointer;\n",
              "      display: none;\n",
              "      fill: #1967D2;\n",
              "      height: 32px;\n",
              "      padding: 0 0 0 0;\n",
              "      width: 32px;\n",
              "    }\n",
              "\n",
              "    .colab-df-convert:hover {\n",
              "      background-color: #E2EBFA;\n",
              "      box-shadow: 0px 1px 2px rgba(60, 64, 67, 0.3), 0px 1px 3px 1px rgba(60, 64, 67, 0.15);\n",
              "      fill: #174EA6;\n",
              "    }\n",
              "\n",
              "    [theme=dark] .colab-df-convert {\n",
              "      background-color: #3B4455;\n",
              "      fill: #D2E3FC;\n",
              "    }\n",
              "\n",
              "    [theme=dark] .colab-df-convert:hover {\n",
              "      background-color: #434B5C;\n",
              "      box-shadow: 0px 1px 3px 1px rgba(0, 0, 0, 0.15);\n",
              "      filter: drop-shadow(0px 1px 2px rgba(0, 0, 0, 0.3));\n",
              "      fill: #FFFFFF;\n",
              "    }\n",
              "  </style>\n",
              "\n",
              "      <script>\n",
              "        const buttonEl =\n",
              "          document.querySelector('#df-da9dc891-8a55-4940-a3f8-050d05988cf5 button.colab-df-convert');\n",
              "        buttonEl.style.display =\n",
              "          google.colab.kernel.accessAllowed ? 'block' : 'none';\n",
              "\n",
              "        async function convertToInteractive(key) {\n",
              "          const element = document.querySelector('#df-da9dc891-8a55-4940-a3f8-050d05988cf5');\n",
              "          const dataTable =\n",
              "            await google.colab.kernel.invokeFunction('convertToInteractive',\n",
              "                                                     [key], {});\n",
              "          if (!dataTable) return;\n",
              "\n",
              "          const docLinkHtml = 'Like what you see? Visit the ' +\n",
              "            '<a target=\"_blank\" href=https://colab.research.google.com/notebooks/data_table.ipynb>data table notebook</a>'\n",
              "            + ' to learn more about interactive tables.';\n",
              "          element.innerHTML = '';\n",
              "          dataTable['output_type'] = 'display_data';\n",
              "          await google.colab.output.renderOutput(dataTable, element);\n",
              "          const docLink = document.createElement('div');\n",
              "          docLink.innerHTML = docLinkHtml;\n",
              "          element.appendChild(docLink);\n",
              "        }\n",
              "      </script>\n",
              "    </div>\n",
              "  </div>\n",
              "  "
            ]
          },
          "metadata": {},
          "execution_count": 22
        }
      ]
    },
    {
      "cell_type": "markdown",
      "source": [
        "# Classification #2"
      ],
      "metadata": {
        "id": "P6rJHeg2Eqpu"
      }
    },
    {
      "cell_type": "markdown",
      "source": [
        "## Separating features and target\n"
      ],
      "metadata": {
        "id": "tKnFhYXFEwuq"
      }
    },
    {
      "cell_type": "code",
      "source": [
        "X = df.drop(columns='labels', axis=1)\n",
        "y = df['labels']\n",
        "\n",
        "# convert cluster into encoding\n",
        "Y = pd.get_dummies(y).values"
      ],
      "metadata": {
        "id": "EQi-5w7JE8Mp"
      },
      "execution_count": null,
      "outputs": []
    },
    {
      "cell_type": "code",
      "source": [
        "X"
      ],
      "metadata": {
        "id": "KHNYh68hFvjP"
      },
      "execution_count": null,
      "outputs": []
    },
    {
      "cell_type": "code",
      "source": [
        "y"
      ],
      "metadata": {
        "id": "IOqvNz_iFz4y"
      },
      "execution_count": null,
      "outputs": []
    },
    {
      "cell_type": "markdown",
      "source": [
        "## Splitting data into training and testing"
      ],
      "metadata": {
        "id": "XDW5bQ-pF65z"
      }
    },
    {
      "cell_type": "code",
      "source": [
        "X_train, X_test, y_train, y_test = train_test_split(X, Y, test_size=0.2, random_state=2)"
      ],
      "metadata": {
        "id": "ADUbRsuSF5pw"
      },
      "execution_count": null,
      "outputs": []
    },
    {
      "cell_type": "code",
      "source": [
        "print(X.shape, X_train.shape, X_test.shape)"
      ],
      "metadata": {
        "id": "DfHSM8ILGEvf"
      },
      "execution_count": null,
      "outputs": []
    },
    {
      "cell_type": "markdown",
      "source": [
        "## Standardize the data"
      ],
      "metadata": {
        "id": "6PAzsTMKGPfN"
      }
    },
    {
      "cell_type": "code",
      "source": [
        "from sklearn.preprocessing import StandardScaler\n",
        "\n",
        "scaler = StandardScaler()\n",
        "\n",
        "X_train_std = scaler.fit_transform(X_train)\n",
        "\n",
        "X_test_std = scaler.transform(X_test)"
      ],
      "metadata": {
        "id": "sgH6J9N8GEp9"
      },
      "execution_count": null,
      "outputs": []
    },
    {
      "cell_type": "markdown",
      "source": [
        "## Model"
      ],
      "metadata": {
        "id": "gKyGwAgTK1B5"
      }
    },
    {
      "cell_type": "code",
      "source": [
        "# importing tensorflow and Keras\n",
        "import tensorflow as tf \n",
        "tf.random.set_seed(3)\n",
        "from tensorflow import keras\n",
        "from tensorflow import keras\n",
        "from tensorflow.keras.optimizers import SGD\n"
      ],
      "metadata": {
        "id": "Fdca79psGb65"
      },
      "execution_count": null,
      "outputs": []
    },
    {
      "cell_type": "code",
      "source": [
        "# setting up the layers of Neural Network\n",
        "\n",
        "model = keras.Sequential([\n",
        "    keras.layers.Dense(128, activation='relu', input_shape=(25,)),\n",
        "    keras.layers.Dense(64, activation='relu'),\n",
        "    keras.layers.Dense(32, activation='relu'),\n",
        "    keras.layers.Dense(5, activation='softmax')\n",
        "])\n",
        "\n",
        "sgd = SGD(learning_rate=0.01, momentum=0.9, nesterov=True)"
      ],
      "metadata": {
        "colab": {
          "base_uri": "https://localhost:8080/",
          "height": 242
        },
        "id": "2clTHD-yGfnS",
        "outputId": "a871026d-52b0-4148-aea7-cbe255103888"
      },
      "execution_count": 4,
      "outputs": [
        {
          "output_type": "error",
          "ename": "NameError",
          "evalue": "ignored",
          "traceback": [
            "\u001b[0;31m---------------------------------------------------------------------------\u001b[0m",
            "\u001b[0;31mNameError\u001b[0m                                 Traceback (most recent call last)",
            "\u001b[0;32m<ipython-input-4-093d7963dc1f>\u001b[0m in \u001b[0;36m<cell line: 3>\u001b[0;34m()\u001b[0m\n\u001b[1;32m      1\u001b[0m \u001b[0;31m# setting up the layers of Neural Network\u001b[0m\u001b[0;34m\u001b[0m\u001b[0;34m\u001b[0m\u001b[0m\n\u001b[1;32m      2\u001b[0m \u001b[0;34m\u001b[0m\u001b[0m\n\u001b[0;32m----> 3\u001b[0;31m model = keras.Sequential([\n\u001b[0m\u001b[1;32m      4\u001b[0m     \u001b[0mkeras\u001b[0m\u001b[0;34m.\u001b[0m\u001b[0mlayers\u001b[0m\u001b[0;34m.\u001b[0m\u001b[0mDense\u001b[0m\u001b[0;34m(\u001b[0m\u001b[0;36m128\u001b[0m\u001b[0;34m,\u001b[0m \u001b[0mactivation\u001b[0m\u001b[0;34m=\u001b[0m\u001b[0;34m'relu'\u001b[0m\u001b[0;34m,\u001b[0m \u001b[0minput_shape\u001b[0m\u001b[0;34m=\u001b[0m\u001b[0;34m(\u001b[0m\u001b[0;36m25\u001b[0m\u001b[0;34m,\u001b[0m\u001b[0;34m)\u001b[0m\u001b[0;34m)\u001b[0m\u001b[0;34m,\u001b[0m\u001b[0;34m\u001b[0m\u001b[0;34m\u001b[0m\u001b[0m\n\u001b[1;32m      5\u001b[0m     \u001b[0mkeras\u001b[0m\u001b[0;34m.\u001b[0m\u001b[0mlayers\u001b[0m\u001b[0;34m.\u001b[0m\u001b[0mDense\u001b[0m\u001b[0;34m(\u001b[0m\u001b[0;36m64\u001b[0m\u001b[0;34m,\u001b[0m \u001b[0mactivation\u001b[0m\u001b[0;34m=\u001b[0m\u001b[0;34m'relu'\u001b[0m\u001b[0;34m)\u001b[0m\u001b[0;34m,\u001b[0m\u001b[0;34m\u001b[0m\u001b[0;34m\u001b[0m\u001b[0m\n",
            "\u001b[0;31mNameError\u001b[0m: name 'keras' is not defined"
          ]
        }
      ]
    },
    {
      "cell_type": "code",
      "source": [
        "# compiling the Neural Network\n",
        "\n",
        "model.compile(optimizer=sgd,\n",
        "              loss='categorical_crossentropy',\n",
        "              metrics=['accuracy'])"
      ],
      "metadata": {
        "id": "_0ZeY0WAHMV8"
      },
      "execution_count": null,
      "outputs": []
    },
    {
      "cell_type": "code",
      "source": [
        "# training the Meural Network\n",
        "\n",
        "history = model.fit(X_train_std, y_train, batch_size=512, epochs=100, validation_data=(X_test, y_test))"
      ],
      "metadata": {
        "id": "KGxd0ZkwHO_R"
      },
      "execution_count": null,
      "outputs": []
    },
    {
      "cell_type": "markdown",
      "source": [
        "## Visualizing "
      ],
      "metadata": {
        "id": "MGGPJ5rdHVMe"
      }
    },
    {
      "cell_type": "code",
      "source": [
        "plt.plot(history.history['accuracy'])\n",
        "plt.plot(history.history['val_accuracy'])\n",
        "\n",
        "plt.title('model accuracy')\n",
        "plt.ylabel('accuracy')\n",
        "plt.xlabel('epoch')\n",
        "\n",
        "plt.legend(['training data', 'validation data'], loc = 'lower right')"
      ],
      "metadata": {
        "id": "VssjXZpYHXR9"
      },
      "execution_count": null,
      "outputs": []
    },
    {
      "cell_type": "code",
      "source": [
        "plt.plot(history.history['loss'])\n",
        "plt.plot(history.history['val_loss'])\n",
        "\n",
        "plt.title('model loss')\n",
        "plt.ylabel('loss')\n",
        "plt.xlabel('epoch')\n",
        "\n",
        "plt.legend(['training data', 'validation data'], loc = 'upper right')"
      ],
      "metadata": {
        "id": "T-E_UKZ9Hfik"
      },
      "execution_count": null,
      "outputs": []
    },
    {
      "cell_type": "code",
      "source": [
        "train_acc = history.history['accuracy']\n",
        "val_acc = history.history['val_accuracy']"
      ],
      "metadata": {
        "id": "CgABaovOGgQr"
      },
      "execution_count": null,
      "outputs": []
    },
    {
      "cell_type": "code",
      "source": [
        "epochs = range(1, len(train_acc) + 1)\n",
        "\n",
        "plt.plot(epochs, train_acc, 'b', label='Training Accuracy')\n",
        "plt.plot(epochs, val_acc, 'r', label='Validation Accuracy')\n",
        "plt.title('Training and Validation Accuracy')\n",
        "plt.xlabel('Epochs')\n",
        "plt.ylabel('Accuracy')\n",
        "plt.legend()\n",
        "plt.show()"
      ],
      "metadata": {
        "id": "o2cDtKxORpjl"
      },
      "execution_count": null,
      "outputs": []
    },
    {
      "cell_type": "code",
      "source": [],
      "metadata": {
        "id": "8CIkKr-qRpU0"
      },
      "execution_count": null,
      "outputs": []
    },
    {
      "cell_type": "markdown",
      "source": [
        "# Classification #1"
      ],
      "metadata": {
        "id": "tm3d9s83lG9e"
      }
    },
    {
      "cell_type": "code",
      "source": [
        "X = df.iloc[:,0:25].values\n",
        "y = df.iloc[:,25].values\n",
        "\n",
        "# convert cluster into encoding\n",
        "Y = pd.get_dummies(y).values\n",
        "\n",
        "X_train,X_test,y_train,y_test = train_test_split(X,Y,test_size=0.2,random_state=0)"
      ],
      "metadata": {
        "id": "cUAgRtb2lKYh"
      },
      "execution_count": 56,
      "outputs": []
    },
    {
      "cell_type": "code",
      "source": [
        "model = Sequential()\n",
        "model.add(Dense(25,input_shape=(25,), activation='relu'))\n",
        "model.add(Dense(5, activation='softmax'))"
      ],
      "metadata": {
        "id": "3to94IRLxO-Q"
      },
      "execution_count": 57,
      "outputs": []
    },
    {
      "cell_type": "code",
      "source": [
        "model.compile(optimizer='Adam', loss='categorical_crossentropy', metrics=['accuracy'])"
      ],
      "metadata": {
        "id": "GSkUJA6ayaus"
      },
      "execution_count": 58,
      "outputs": []
    },
    {
      "cell_type": "code",
      "source": [
        "model.fit(X_train, y_train, batch_size=64, epochs=10)"
      ],
      "metadata": {
        "colab": {
          "base_uri": "https://localhost:8080/"
        },
        "id": "d8WKMrhRzFRS",
        "outputId": "a8317490-945e-46d4-c90f-dd0fce0f4236"
      },
      "execution_count": 60,
      "outputs": [
        {
          "output_type": "stream",
          "name": "stdout",
          "text": [
            "Epoch 1/10\n",
            "8900/8900 [==============================] - 24s 3ms/step - loss: 0.0416 - accuracy: 0.9901\n",
            "Epoch 2/10\n",
            "8900/8900 [==============================] - 21s 2ms/step - loss: 0.0262 - accuracy: 0.9931\n",
            "Epoch 3/10\n",
            "8900/8900 [==============================] - 19s 2ms/step - loss: 0.0212 - accuracy: 0.9939\n",
            "Epoch 4/10\n",
            "8900/8900 [==============================] - 17s 2ms/step - loss: 0.0185 - accuracy: 0.9944\n",
            "Epoch 5/10\n",
            "8900/8900 [==============================] - 18s 2ms/step - loss: 0.0167 - accuracy: 0.9947\n",
            "Epoch 6/10\n",
            "8900/8900 [==============================] - 17s 2ms/step - loss: 0.0154 - accuracy: 0.9951\n",
            "Epoch 7/10\n",
            "8900/8900 [==============================] - 19s 2ms/step - loss: 0.0144 - accuracy: 0.9952\n",
            "Epoch 8/10\n",
            "8900/8900 [==============================] - 17s 2ms/step - loss: 0.0137 - accuracy: 0.9952\n",
            "Epoch 9/10\n",
            "8900/8900 [==============================] - 17s 2ms/step - loss: 0.0131 - accuracy: 0.9954\n",
            "Epoch 10/10\n",
            "8900/8900 [==============================] - 17s 2ms/step - loss: 0.0126 - accuracy: 0.9955\n"
          ]
        },
        {
          "output_type": "execute_result",
          "data": {
            "text/plain": [
              "<keras.callbacks.History at 0x7f800bf5f670>"
            ]
          },
          "metadata": {},
          "execution_count": 60
        }
      ]
    },
    {
      "cell_type": "code",
      "source": [
        "history = model.fit(X_train, y_train, batch_size=64, epochs=10, validation_data=(X_test, y_test))"
      ],
      "metadata": {
        "colab": {
          "base_uri": "https://localhost:8080/"
        },
        "id": "dozAJjA7CNiV",
        "outputId": "d66c2499-9410-49e5-de63-48f83d724c63"
      },
      "execution_count": 61,
      "outputs": [
        {
          "output_type": "stream",
          "name": "stdout",
          "text": [
            "Epoch 1/10\n",
            "8900/8900 [==============================] - 36s 4ms/step - loss: 0.0122 - accuracy: 0.9955 - val_loss: 0.0114 - val_accuracy: 0.9962\n",
            "Epoch 2/10\n",
            "8900/8900 [==============================] - 36s 4ms/step - loss: 0.0118 - accuracy: 0.9957 - val_loss: 0.0107 - val_accuracy: 0.9966\n",
            "Epoch 3/10\n",
            "8900/8900 [==============================] - 28s 3ms/step - loss: 0.0115 - accuracy: 0.9958 - val_loss: 0.0125 - val_accuracy: 0.9949\n",
            "Epoch 4/10\n",
            "8900/8900 [==============================] - 22s 3ms/step - loss: 0.0113 - accuracy: 0.9958 - val_loss: 0.0112 - val_accuracy: 0.9957\n",
            "Epoch 5/10\n",
            "8900/8900 [==============================] - 24s 3ms/step - loss: 0.0110 - accuracy: 0.9959 - val_loss: 0.0109 - val_accuracy: 0.9958\n",
            "Epoch 6/10\n",
            "8900/8900 [==============================] - 24s 3ms/step - loss: 0.0107 - accuracy: 0.9959 - val_loss: 0.0119 - val_accuracy: 0.9952\n",
            "Epoch 7/10\n",
            "8900/8900 [==============================] - 20s 2ms/step - loss: 0.0105 - accuracy: 0.9960 - val_loss: 0.0121 - val_accuracy: 0.9953\n",
            "Epoch 8/10\n",
            "8900/8900 [==============================] - 22s 3ms/step - loss: 0.0103 - accuracy: 0.9961 - val_loss: 0.0100 - val_accuracy: 0.9962\n",
            "Epoch 9/10\n",
            "8900/8900 [==============================] - 23s 3ms/step - loss: 0.0101 - accuracy: 0.9961 - val_loss: 0.0120 - val_accuracy: 0.9950\n",
            "Epoch 10/10\n",
            "8900/8900 [==============================] - 24s 3ms/step - loss: 0.0100 - accuracy: 0.9961 - val_loss: 0.0095 - val_accuracy: 0.9964\n"
          ]
        }
      ]
    },
    {
      "cell_type": "code",
      "source": [
        "y_pred = model.predict(X_test)\n",
        "y_test_class = np.argmax(y_test,axis=1)\n",
        "y_pred_class = np.argmax(y_pred,axis=1)"
      ],
      "metadata": {
        "id": "rOtWA2um0CPO"
      },
      "execution_count": null,
      "outputs": []
    },
    {
      "cell_type": "code",
      "source": [
        "print(classification_report(y_test_class,y_pred_class))\n",
        "print(confusion_matrix(y_test_class,y_pred_class))"
      ],
      "metadata": {
        "id": "gTkkXQR_DCEp"
      },
      "execution_count": null,
      "outputs": []
    },
    {
      "cell_type": "code",
      "source": [
        "import matplotlib.pyplot as plt\n",
        "\n",
        "# Menghitung akurasi dan loss pada data pelatihan\n",
        "train_loss = history.history['loss']\n",
        "train_accuracy = history.history['accuracy']\n",
        "\n",
        "# Menghitung akurasi dan loss pada data pengujian\n",
        "test_loss = history.history['val_loss']\n",
        "test_accuracy = history.history['val_accuracy']\n",
        "\n",
        "# Membuat grafik akurasi\n",
        "plt.plot(train_accuracy, label='Train Accuracy')\n",
        "plt.plot(test_accuracy, label='Test Accuracy')\n",
        "plt.title('Model Accuracy')\n",
        "plt.xlabel('Epoch')\n",
        "plt.ylabel('Accuracy')\n",
        "plt.legend()\n",
        "plt.show()\n",
        "\n",
        "# Membuat grafik loss\n",
        "plt.plot(train_loss, label='Train Loss')\n",
        "plt.plot(test_loss, label='Test Loss')\n",
        "plt.title('Model Loss')\n",
        "plt.xlabel('Epoch')\n",
        "plt.ylabel('Loss')\n",
        "plt.legend()\n",
        "plt.show()\n"
      ],
      "metadata": {
        "colab": {
          "base_uri": "https://localhost:8080/",
          "height": 927
        },
        "id": "LJfhN7IhCU8V",
        "outputId": "121f22e0-946a-4e7e-b450-df595840a5b3"
      },
      "execution_count": 62,
      "outputs": [
        {
          "output_type": "display_data",
          "data": {
            "text/plain": [
              "<Figure size 640x480 with 1 Axes>"
            ],
            "image/png": "[encoded data removed]"
          },
          "metadata": {}
        },
        {
          "output_type": "display_data",
          "data": {
            "text/plain": [
              "<Figure size 640x480 with 1 Axes>"
            ],
            "image/png": "[encoded data removed]"
          },
          "metadata": {}
        }
      ]
    },
    {
      "cell_type": "code",
      "source": [],
      "metadata": {
        "id": "UbV24-URRn_S"
      },
      "execution_count": null,
      "outputs": []
    },
    {
      "cell_type": "markdown",
      "source": [
        "# Classification"
      ],
      "metadata": {
        "id": "liYrqzfrHs_j"
      }
    },
    {
      "cell_type": "markdown",
      "source": [
        "Klasifikasi adalah proses pengelompokkan data baru berdasarkan kedekatan dengan data yang sudah ada dan memiliki label. Dalam  hal ini datanya adalah hasil test big five personality dan labelnya adalah cluster (5 type of personality).\n",
        "\n",
        "Metode yang digunakan untuk klasifikasi ini adalah DNN. Neural network models can be configured to support multi-label classification and can perform well, depending on the specifics of the classification task"
      ],
      "metadata": {
        "id": "_pPMWiFbHwr5"
      }
    },
    {
      "cell_type": "code",
      "source": [
        "# Memisahkan fitur dan label\n",
        "X = df.drop('labels', axis=1)\n",
        "y = df['labels']"
      ],
      "metadata": {
        "id": "S3hM3euWKCRN"
      },
      "execution_count": 23,
      "outputs": []
    },
    {
      "cell_type": "code",
      "source": [
        "from sklearn.model_selection import train_test_split\n",
        "# Memisahkan data menjadi set pelatihan dan pengujian\n",
        "X_train, X_test, y_train, y_test = train_test_split(X, y, test_size=0.2, random_state=42)"
      ],
      "metadata": {
        "id": "eLYZWAYRLM76"
      },
      "execution_count": 25,
      "outputs": []
    },
    {
      "cell_type": "code",
      "source": [
        "from sklearn.preprocessing import StandardScaler\n",
        "\n",
        "# Standarisasi fitur-fitur pada set pelatihan dan pengujian\n",
        "scaler = StandardScaler()\n",
        "X_train_scaled = scaler.fit_transform(X_train)\n",
        "X_test_scaled = scaler.transform(X_test)"
      ],
      "metadata": {
        "id": "UwmqlplcLOwq"
      },
      "execution_count": 27,
      "outputs": []
    },
    {
      "cell_type": "code",
      "source": [
        "import tensorflow as tf\n",
        "from tensorflow import keras\n",
        "from tensorflow.keras import layers\n",
        "\n",
        "# Membangun arsitektur Neural Network\n",
        "model = keras.Sequential([\n",
        "    layers.Dense(64, activation='relu', input_shape=(X_train_scaled.shape[1],)),\n",
        "    layers.Dense(32, activation='relu'),\n",
        "    layers.Dense(5, activation='softmax')  # Jumlah output sesuai dengan jumlah klaster kepribadian\n",
        "])"
      ],
      "metadata": {
        "id": "mOab80UPLsBD"
      },
      "execution_count": 29,
      "outputs": []
    },
    {
      "cell_type": "code",
      "source": [
        "# Kompilasi model\n",
        "model.compile(optimizer='adam', loss='sparse_categorical_crossentropy', metrics=['accuracy'])"
      ],
      "metadata": {
        "id": "MXfSw335L5aU"
      },
      "execution_count": 31,
      "outputs": []
    },
    {
      "cell_type": "code",
      "source": [
        "# Evaluasi model pada set pengujian\n",
        "loss, accuracy = model.evaluate(X_test_scaled, y_test)\n",
        "print(\"Loss:\", loss)\n",
        "print(\"Akurasi:\", accuracy)"
      ],
      "metadata": {
        "colab": {
          "base_uri": "https://localhost:8080/"
        },
        "id": "qTQAZc3XL77Y",
        "outputId": "11af70cc-3076-4240-a384-a7ac7fa33bf3"
      },
      "execution_count": 32,
      "outputs": [
        {
          "output_type": "stream",
          "name": "stdout",
          "text": [
            "4450/4450 [==============================] - 14s 2ms/step - loss: 1.7062 - accuracy: 0.2312\n",
            "Loss: 1.7061854600906372\n",
            "Akurasi: 0.23118411004543304\n"
          ]
        }
      ]
    },
    {
      "cell_type": "code",
      "source": [
        "history = model.fit(X_train_scaled, y_train, epochs=100, batch_size=160, validation_data=(X_test_scaled, y_test))"
      ],
      "metadata": {
        "colab": {
          "base_uri": "https://localhost:8080/"
        },
        "id": "l0s-XrPmMEx5",
        "outputId": "69fd769a-5933-42a7-c976-d0c5091f88b5"
      },
      "execution_count": 33,
      "outputs": [
        {
          "output_type": "stream",
          "name": "stdout",
          "text": [
            "Epoch 1/100\n",
            "17800/17800 [==============================] - 70s 4ms/step - loss: 0.0726 - accuracy: 0.9708 - val_loss: 0.0487 - val_accuracy: 0.9794\n",
            "Epoch 2/100\n",
            "17800/17800 [==============================] - 65s 4ms/step - loss: 0.0405 - accuracy: 0.9830 - val_loss: 0.0345 - val_accuracy: 0.9852\n",
            "Epoch 3/100\n",
            "17800/17800 [==============================] - 66s 4ms/step - loss: 0.0362 - accuracy: 0.9849 - val_loss: 0.0323 - val_accuracy: 0.9864\n",
            "Epoch 4/100\n",
            "17800/17800 [==============================] - 67s 4ms/step - loss: 0.0331 - accuracy: 0.9861 - val_loss: 0.0365 - val_accuracy: 0.9845\n",
            "Epoch 5/100\n",
            "17800/17800 [==============================] - 65s 4ms/step - loss: 0.0308 - accuracy: 0.9870 - val_loss: 0.0429 - val_accuracy: 0.9839\n",
            "Epoch 6/100\n",
            "17800/17800 [==============================] - 64s 4ms/step - loss: 0.0293 - accuracy: 0.9877 - val_loss: 0.0271 - val_accuracy: 0.9884\n",
            "Epoch 7/100\n",
            "17800/17800 [==============================] - 64s 4ms/step - loss: 0.0277 - accuracy: 0.9884 - val_loss: 0.0305 - val_accuracy: 0.9870\n",
            "Epoch 8/100\n",
            "17800/17800 [==============================] - 66s 4ms/step - loss: 0.0265 - accuracy: 0.9890 - val_loss: 0.0268 - val_accuracy: 0.9888\n",
            "Epoch 9/100\n",
            "17800/17800 [==============================] - 67s 4ms/step - loss: 0.0256 - accuracy: 0.9893 - val_loss: 0.0227 - val_accuracy: 0.9905\n",
            "Epoch 10/100\n",
            "17800/17800 [==============================] - 64s 4ms/step - loss: 0.0252 - accuracy: 0.9894 - val_loss: 0.0230 - val_accuracy: 0.9901\n",
            "Epoch 11/100\n",
            "17800/17800 [==============================] - 65s 4ms/step - loss: 0.0240 - accuracy: 0.9898 - val_loss: 0.0247 - val_accuracy: 0.9896\n",
            "Epoch 12/100\n",
            "17800/17800 [==============================] - 63s 4ms/step - loss: 0.0234 - accuracy: 0.9902 - val_loss: 0.0432 - val_accuracy: 0.9846\n",
            "Epoch 13/100\n",
            "17800/17800 [==============================] - 63s 4ms/step - loss: 0.0226 - accuracy: 0.9905 - val_loss: 0.0293 - val_accuracy: 0.9880\n",
            "Epoch 14/100\n",
            "17800/17800 [==============================] - 66s 4ms/step - loss: 0.0219 - accuracy: 0.9908 - val_loss: 0.0246 - val_accuracy: 0.9899\n",
            "Epoch 15/100\n",
            "17800/17800 [==============================] - 67s 4ms/step - loss: 0.0215 - accuracy: 0.9910 - val_loss: 0.0287 - val_accuracy: 0.9883\n",
            "Epoch 16/100\n",
            "17800/17800 [==============================] - 64s 4ms/step - loss: 0.0211 - accuracy: 0.9910 - val_loss: 0.0187 - val_accuracy: 0.9920\n",
            "Epoch 17/100\n",
            "17800/17800 [==============================] - 65s 4ms/step - loss: 0.0207 - accuracy: 0.9914 - val_loss: 0.0178 - val_accuracy: 0.9923\n",
            "Epoch 18/100\n",
            "17800/17800 [==============================] - 63s 4ms/step - loss: 0.0201 - accuracy: 0.9915 - val_loss: 0.0202 - val_accuracy: 0.9917\n",
            "Epoch 19/100\n",
            "17800/17800 [==============================] - 64s 4ms/step - loss: 0.0198 - accuracy: 0.9918 - val_loss: 0.0220 - val_accuracy: 0.9906\n",
            "Epoch 20/100\n",
            "17800/17800 [==============================] - 62s 3ms/step - loss: 0.0195 - accuracy: 0.9918 - val_loss: 0.0187 - val_accuracy: 0.9919\n",
            "Epoch 21/100\n",
            "17800/17800 [==============================] - 62s 3ms/step - loss: 0.0193 - accuracy: 0.9919 - val_loss: 0.0178 - val_accuracy: 0.9924\n",
            "Epoch 22/100\n",
            "17800/17800 [==============================] - 62s 3ms/step - loss: 0.0186 - accuracy: 0.9922 - val_loss: 0.0167 - val_accuracy: 0.9928\n",
            "Epoch 23/100\n",
            "17800/17800 [==============================] - 62s 3ms/step - loss: 0.0187 - accuracy: 0.9923 - val_loss: 0.0189 - val_accuracy: 0.9920\n",
            "Epoch 24/100\n",
            "17800/17800 [==============================] - 64s 4ms/step - loss: 0.0185 - accuracy: 0.9922 - val_loss: 0.0184 - val_accuracy: 0.9923\n",
            "Epoch 25/100\n",
            "17800/17800 [==============================] - 62s 3ms/step - loss: 0.0181 - accuracy: 0.9925 - val_loss: 0.0186 - val_accuracy: 0.9924\n",
            "Epoch 26/100\n",
            "17800/17800 [==============================] - 63s 4ms/step - loss: 0.0177 - accuracy: 0.9926 - val_loss: 0.0242 - val_accuracy: 0.9904\n",
            "Epoch 27/100\n",
            "17800/17800 [==============================] - 64s 4ms/step - loss: 0.0176 - accuracy: 0.9927 - val_loss: 0.0185 - val_accuracy: 0.9924\n",
            "Epoch 28/100\n",
            "17800/17800 [==============================] - 63s 4ms/step - loss: 0.0174 - accuracy: 0.9929 - val_loss: 0.0200 - val_accuracy: 0.9916\n",
            "Epoch 29/100\n",
            "17800/17800 [==============================] - 61s 3ms/step - loss: 0.0172 - accuracy: 0.9928 - val_loss: 0.0197 - val_accuracy: 0.9921\n",
            "Epoch 30/100\n",
            "17800/17800 [==============================] - 63s 4ms/step - loss: 0.0168 - accuracy: 0.9930 - val_loss: 0.0173 - val_accuracy: 0.9929\n",
            "Epoch 31/100\n",
            "17800/17800 [==============================] - 64s 4ms/step - loss: 0.0168 - accuracy: 0.9930 - val_loss: 0.0150 - val_accuracy: 0.9936\n",
            "Epoch 32/100\n",
            "17800/17800 [==============================] - 62s 3ms/step - loss: 0.0163 - accuracy: 0.9932 - val_loss: 0.0181 - val_accuracy: 0.9926\n",
            "Epoch 33/100\n",
            "17800/17800 [==============================] - 64s 4ms/step - loss: 0.0166 - accuracy: 0.9932 - val_loss: 0.0164 - val_accuracy: 0.9931\n",
            "Epoch 34/100\n",
            "17800/17800 [==============================] - 62s 4ms/step - loss: 0.0163 - accuracy: 0.9933 - val_loss: 0.0207 - val_accuracy: 0.9915\n",
            "Epoch 35/100\n",
            "17800/17800 [==============================] - 65s 4ms/step - loss: 0.0160 - accuracy: 0.9934 - val_loss: 0.0180 - val_accuracy: 0.9926\n",
            "Epoch 36/100\n",
            "17800/17800 [==============================] - 62s 3ms/step - loss: 0.0161 - accuracy: 0.9934 - val_loss: 0.0182 - val_accuracy: 0.9926\n",
            "Epoch 37/100\n",
            "17800/17800 [==============================] - 64s 4ms/step - loss: 0.0158 - accuracy: 0.9935 - val_loss: 0.0174 - val_accuracy: 0.9929\n",
            "Epoch 38/100\n",
            "17800/17800 [==============================] - 61s 3ms/step - loss: 0.0155 - accuracy: 0.9936 - val_loss: 0.0176 - val_accuracy: 0.9926\n",
            "Epoch 39/100\n",
            "17800/17800 [==============================] - 61s 3ms/step - loss: 0.0158 - accuracy: 0.9935 - val_loss: 0.0149 - val_accuracy: 0.9936\n",
            "Epoch 40/100\n",
            "17800/17800 [==============================] - 61s 3ms/step - loss: 0.0156 - accuracy: 0.9934 - val_loss: 0.0275 - val_accuracy: 0.9901\n",
            "Epoch 41/100\n",
            "17800/17800 [==============================] - 61s 3ms/step - loss: 0.0153 - accuracy: 0.9937 - val_loss: 0.0159 - val_accuracy: 0.9935\n",
            "Epoch 42/100\n",
            "17800/17800 [==============================] - 64s 4ms/step - loss: 0.0154 - accuracy: 0.9937 - val_loss: 0.0162 - val_accuracy: 0.9933\n",
            "Epoch 43/100\n",
            "17800/17800 [==============================] - 64s 4ms/step - loss: 0.0153 - accuracy: 0.9937 - val_loss: 0.0176 - val_accuracy: 0.9929\n",
            "Epoch 44/100\n",
            "17800/17800 [==============================] - 62s 3ms/step - loss: 0.0151 - accuracy: 0.9939 - val_loss: 0.0189 - val_accuracy: 0.9927\n",
            "Epoch 45/100\n",
            "17800/17800 [==============================] - 64s 4ms/step - loss: 0.0149 - accuracy: 0.9939 - val_loss: 0.0157 - val_accuracy: 0.9936\n",
            "Epoch 46/100\n",
            "17800/17800 [==============================] - 64s 4ms/step - loss: 0.0149 - accuracy: 0.9939 - val_loss: 0.0159 - val_accuracy: 0.9931\n",
            "Epoch 47/100\n",
            "17800/17800 [==============================] - 62s 3ms/step - loss: 0.0148 - accuracy: 0.9940 - val_loss: 0.0183 - val_accuracy: 0.9928\n",
            "Epoch 48/100\n",
            "17800/17800 [==============================] - 64s 4ms/step - loss: 0.0148 - accuracy: 0.9939 - val_loss: 0.0177 - val_accuracy: 0.9929\n",
            "Epoch 49/100\n",
            "17800/17800 [==============================] - 62s 3ms/step - loss: 0.0148 - accuracy: 0.9940 - val_loss: 0.0146 - val_accuracy: 0.9942\n",
            "Epoch 50/100\n",
            "17800/17800 [==============================] - 64s 4ms/step - loss: 0.0146 - accuracy: 0.9940 - val_loss: 0.0140 - val_accuracy: 0.9942\n",
            "Epoch 51/100\n",
            "17800/17800 [==============================] - 64s 4ms/step - loss: 0.0146 - accuracy: 0.9940 - val_loss: 0.0146 - val_accuracy: 0.9941\n",
            "Epoch 52/100\n",
            "17800/17800 [==============================] - 62s 3ms/step - loss: 0.0142 - accuracy: 0.9943 - val_loss: 0.0157 - val_accuracy: 0.9936\n",
            "Epoch 53/100\n",
            "17800/17800 [==============================] - 61s 3ms/step - loss: 0.0141 - accuracy: 0.9943 - val_loss: 0.0139 - val_accuracy: 0.9944\n",
            "Epoch 54/100\n",
            "17800/17800 [==============================] - 66s 4ms/step - loss: 0.0144 - accuracy: 0.9940 - val_loss: 0.0158 - val_accuracy: 0.9934\n",
            "Epoch 55/100\n",
            "17800/17800 [==============================] - 62s 3ms/step - loss: 0.0141 - accuracy: 0.9941 - val_loss: 0.0194 - val_accuracy: 0.9928\n",
            "Epoch 56/100\n",
            "17800/17800 [==============================] - 63s 4ms/step - loss: 0.0139 - accuracy: 0.9943 - val_loss: 0.0179 - val_accuracy: 0.9930\n",
            "Epoch 57/100\n",
            "17800/17800 [==============================] - 62s 4ms/step - loss: 0.0140 - accuracy: 0.9942 - val_loss: 0.0185 - val_accuracy: 0.9928\n",
            "Epoch 58/100\n",
            "17800/17800 [==============================] - 64s 4ms/step - loss: 0.0140 - accuracy: 0.9943 - val_loss: 0.0153 - val_accuracy: 0.9939\n",
            "Epoch 59/100\n",
            "17800/17800 [==============================] - 65s 4ms/step - loss: 0.0137 - accuracy: 0.9944 - val_loss: 0.0168 - val_accuracy: 0.9933\n",
            "Epoch 60/100\n",
            "17800/17800 [==============================] - 62s 4ms/step - loss: 0.0135 - accuracy: 0.9944 - val_loss: 0.0165 - val_accuracy: 0.9933\n",
            "Epoch 61/100\n",
            "17800/17800 [==============================] - 63s 4ms/step - loss: 0.0135 - accuracy: 0.9943 - val_loss: 0.0200 - val_accuracy: 0.9922\n",
            "Epoch 62/100\n",
            "17800/17800 [==============================] - 64s 4ms/step - loss: 0.0134 - accuracy: 0.9946 - val_loss: 0.0206 - val_accuracy: 0.9921\n",
            "Epoch 63/100\n",
            "17800/17800 [==============================] - 62s 3ms/step - loss: 0.0134 - accuracy: 0.9945 - val_loss: 0.0222 - val_accuracy: 0.9919\n",
            "Epoch 64/100\n",
            "17800/17800 [==============================] - 65s 4ms/step - loss: 0.0132 - accuracy: 0.9945 - val_loss: 0.0168 - val_accuracy: 0.9933\n",
            "Epoch 65/100\n",
            "17800/17800 [==============================] - 65s 4ms/step - loss: 0.0132 - accuracy: 0.9946 - val_loss: 0.0164 - val_accuracy: 0.9934\n",
            "Epoch 66/100\n",
            "17800/17800 [==============================] - 62s 4ms/step - loss: 0.0130 - accuracy: 0.9947 - val_loss: 0.0188 - val_accuracy: 0.9930\n",
            "Epoch 67/100\n",
            "17800/17800 [==============================] - 65s 4ms/step - loss: 0.0130 - accuracy: 0.9948 - val_loss: 0.0188 - val_accuracy: 0.9927\n",
            "Epoch 68/100\n",
            "17800/17800 [==============================] - 64s 4ms/step - loss: 0.0131 - accuracy: 0.9946 - val_loss: 0.0181 - val_accuracy: 0.9931\n",
            "Epoch 69/100\n",
            "17800/17800 [==============================] - 62s 4ms/step - loss: 0.0128 - accuracy: 0.9947 - val_loss: 0.0143 - val_accuracy: 0.9944\n",
            "Epoch 70/100\n",
            "17800/17800 [==============================] - 62s 3ms/step - loss: 0.0130 - accuracy: 0.9947 - val_loss: 0.0196 - val_accuracy: 0.9928\n",
            "Epoch 71/100\n",
            "17800/17800 [==============================] - 61s 3ms/step - loss: 0.0129 - accuracy: 0.9947 - val_loss: 0.0161 - val_accuracy: 0.9938\n",
            "Epoch 72/100\n",
            "17800/17800 [==============================] - 62s 3ms/step - loss: 0.0128 - accuracy: 0.9947 - val_loss: 0.0141 - val_accuracy: 0.9944\n",
            "Epoch 73/100\n",
            "17800/17800 [==============================] - 64s 4ms/step - loss: 0.0128 - accuracy: 0.9949 - val_loss: 0.0189 - val_accuracy: 0.9928\n",
            "Epoch 74/100\n",
            "17800/17800 [==============================] - 62s 3ms/step - loss: 0.0126 - accuracy: 0.9949 - val_loss: 0.0186 - val_accuracy: 0.9930\n",
            "Epoch 75/100\n",
            "17800/17800 [==============================] - 64s 4ms/step - loss: 0.0124 - accuracy: 0.9949 - val_loss: 0.0172 - val_accuracy: 0.9934\n",
            "Epoch 76/100\n",
            "17800/17800 [==============================] - 64s 4ms/step - loss: 0.0123 - accuracy: 0.9951 - val_loss: 0.0163 - val_accuracy: 0.9937\n",
            "Epoch 77/100\n",
            "17800/17800 [==============================] - 62s 3ms/step - loss: 0.0126 - accuracy: 0.9949 - val_loss: 0.0174 - val_accuracy: 0.9935\n",
            "Epoch 78/100\n",
            "17800/17800 [==============================] - 62s 3ms/step - loss: 0.0123 - accuracy: 0.9949 - val_loss: 0.0158 - val_accuracy: 0.9939\n",
            "Epoch 79/100\n",
            "17800/17800 [==============================] - 63s 4ms/step - loss: 0.0125 - accuracy: 0.9950 - val_loss: 0.0145 - val_accuracy: 0.9943\n",
            "Epoch 80/100\n",
            "17800/17800 [==============================] - 61s 3ms/step - loss: 0.0122 - accuracy: 0.9950 - val_loss: 0.0150 - val_accuracy: 0.9944\n",
            "Epoch 81/100\n",
            "17800/17800 [==============================] - 65s 4ms/step - loss: 0.0122 - accuracy: 0.9950 - val_loss: 0.0164 - val_accuracy: 0.9938\n",
            "Epoch 82/100\n",
            "17800/17800 [==============================] - 61s 3ms/step - loss: 0.0124 - accuracy: 0.9950 - val_loss: 0.0143 - val_accuracy: 0.9946\n",
            "Epoch 83/100\n",
            "17800/17800 [==============================] - 65s 4ms/step - loss: 0.0122 - accuracy: 0.9950 - val_loss: 0.0144 - val_accuracy: 0.9945\n",
            "Epoch 84/100\n",
            "17800/17800 [==============================] - 65s 4ms/step - loss: 0.0122 - accuracy: 0.9951 - val_loss: 0.0211 - val_accuracy: 0.9929\n",
            "Epoch 85/100\n",
            "17800/17800 [==============================] - 61s 3ms/step - loss: 0.0121 - accuracy: 0.9951 - val_loss: 0.0142 - val_accuracy: 0.9947\n",
            "Epoch 86/100\n",
            "17800/17800 [==============================] - 62s 3ms/step - loss: 0.0121 - accuracy: 0.9951 - val_loss: 0.0184 - val_accuracy: 0.9933\n",
            "Epoch 87/100\n",
            "17800/17800 [==============================] - 63s 4ms/step - loss: 0.0120 - accuracy: 0.9951 - val_loss: 0.0177 - val_accuracy: 0.9931\n",
            "Epoch 88/100\n",
            "17800/17800 [==============================] - 63s 4ms/step - loss: 0.0120 - accuracy: 0.9952 - val_loss: 0.0158 - val_accuracy: 0.9940\n",
            "Epoch 89/100\n",
            "17800/17800 [==============================] - 65s 4ms/step - loss: 0.0119 - accuracy: 0.9952 - val_loss: 0.0178 - val_accuracy: 0.9933\n",
            "Epoch 90/100\n",
            "17800/17800 [==============================] - 63s 4ms/step - loss: 0.0119 - accuracy: 0.9952 - val_loss: 0.0157 - val_accuracy: 0.9941\n",
            "Epoch 91/100\n",
            "17800/17800 [==============================] - 63s 4ms/step - loss: 0.0118 - accuracy: 0.9953 - val_loss: 0.0193 - val_accuracy: 0.9928\n",
            "Epoch 92/100\n",
            "17800/17800 [==============================] - 63s 4ms/step - loss: 0.0118 - accuracy: 0.9953 - val_loss: 0.0175 - val_accuracy: 0.9934\n",
            "Epoch 93/100\n",
            "17800/17800 [==============================] - 63s 4ms/step - loss: 0.0118 - accuracy: 0.9952 - val_loss: 0.0138 - val_accuracy: 0.9948\n",
            "Epoch 94/100\n",
            "17800/17800 [==============================] - 65s 4ms/step - loss: 0.0115 - accuracy: 0.9953 - val_loss: 0.0167 - val_accuracy: 0.9938\n",
            "Epoch 95/100\n",
            "17800/17800 [==============================] - 65s 4ms/step - loss: 0.0117 - accuracy: 0.9953 - val_loss: 0.0148 - val_accuracy: 0.9945\n",
            "Epoch 96/100\n",
            "17800/17800 [==============================] - 63s 4ms/step - loss: 0.0116 - accuracy: 0.9953 - val_loss: 0.0245 - val_accuracy: 0.9922\n",
            "Epoch 97/100\n",
            "17800/17800 [==============================] - 65s 4ms/step - loss: 0.0115 - accuracy: 0.9953 - val_loss: 0.0212 - val_accuracy: 0.9925\n",
            "Epoch 98/100\n",
            "17800/17800 [==============================] - 63s 4ms/step - loss: 0.0115 - accuracy: 0.9953 - val_loss: 0.0135 - val_accuracy: 0.9953\n",
            "Epoch 99/100\n",
            "17800/17800 [==============================] - 65s 4ms/step - loss: 0.0117 - accuracy: 0.9955 - val_loss: 0.0143 - val_accuracy: 0.9946\n",
            "Epoch 100/100\n",
            "17800/17800 [==============================] - 62s 3ms/step - loss: 0.0115 - accuracy: 0.9954 - val_loss: 0.0145 - val_accuracy: 0.9947\n"
          ]
        }
      ]
    },
    {
      "cell_type": "code",
      "source": [
        "train_acc = history.history['accuracy']\n",
        "val_acc = history.history['val_accuracy']"
      ],
      "metadata": {
        "id": "aA6pH-oPMHyJ"
      },
      "execution_count": 34,
      "outputs": []
    },
    {
      "cell_type": "code",
      "source": [
        "epochs = range(1, len(train_acc) + 1)\n",
        "\n",
        "plt.plot(epochs, train_acc, 'b', label='Training Accuracy')\n",
        "plt.plot(epochs, val_acc, 'r', label='Validation Accuracy')\n",
        "plt.title('Training and Validation Accuracy')\n",
        "plt.xlabel('Epochs')\n",
        "plt.ylabel('Accuracy')\n",
        "plt.legend()\n",
        "plt.show()"
      ],
      "metadata": {
        "colab": {
          "base_uri": "https://localhost:8080/",
          "height": 472
        },
        "id": "wmiIOFROMI6Q",
        "outputId": "902e90ea-2391-4fa0-8cce-27e3e9dcc536"
      },
      "execution_count": 35,
      "outputs": [
        {
          "output_type": "display_data",
          "data": {
            "text/plain": [
              "<Figure size 640x480 with 1 Axes>"
            ],
            "image/png": "[encoded data removed]"
          },
          "metadata": {}
        }
      ]
    },
    {
      "cell_type": "code",
      "source": [],
      "metadata": {
        "id": "UKatztTyY0m1"
      },
      "execution_count": null,
      "outputs": []
    },
    {
      "cell_type": "code",
      "source": [],
      "metadata": {
        "id": "9RpW7mWQTwVd"
      },
      "execution_count": null,
      "outputs": []
    },
    {
      "cell_type": "code",
      "source": [],
      "metadata": {
        "id": "rCT9sYsQTwL7"
      },
      "execution_count": null,
      "outputs": []
    },
    {
      "cell_type": "code",
      "source": [],
      "metadata": {
        "id": "vIh6sx1ITwAI"
      },
      "execution_count": null,
      "outputs": []
    }
  ]
}